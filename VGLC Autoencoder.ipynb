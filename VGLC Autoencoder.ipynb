{
 "cells": [
  {
   "cell_type": "markdown",
   "metadata": {},
   "source": [
    "Trains an autoencoder to perform various tasks based on the run mode.\n",
    "\n",
    "Reconstruction mode encodes and decodes a single level before displaying the result. \n",
    "Recognition mode attempts to classify fixed-size windows of levels by the levels they \n",
    "came from based on the windows' encodings. Repair mode trains the autoencoder with \n",
    "noisy input before attempting to remove the noise from a given noisy level.\n",
    "\n",
    "http://www.ccgworkshop.org/2016/Jain.pdf"
   ]
  },
  {
   "cell_type": "code",
   "execution_count": 1,
   "metadata": {
    "collapsed": true
   },
   "outputs": [],
   "source": [
    "import os, sys\n",
    "import numpy as np\n",
    "import matplotlib.pyplot as plt\n",
    "import tflearn\n",
    "\n",
    "from sklearn import metrics\n",
    "from sklearn.ensemble import RandomForestClassifier\n",
    "from sklearn.model_selection import train_test_split"
   ]
  },
  {
   "cell_type": "code",
   "execution_count": 2,
   "metadata": {
    "collapsed": true
   },
   "outputs": [],
   "source": [
    "# Run modes\n",
    "RECONSTRUCTION = 0\n",
    "RECOGNITION    = 1\n",
    "REPAIR         = 2\n",
    "\n",
    "# Options\n",
    "run_mode        = 0                                  # What the program does with the autoencoder\n",
    "grayscale       = False                              # Grayscale v.s. white and black reconstruction image\n",
    "base_path       = 'VGLC/Super Mario Bros/Processed/' # Path to levels folder\n",
    "empty_symbol    = '-'                                # Symbol representing an empty tile in the game\n",
    "window_width    = 4\n",
    "window_height   = 12\n",
    "outer_neurons   = 64\n",
    "inner_neurons   = 16\n",
    "learning_rate   = 0.005\n",
    "num_epochs      = 20\n",
    "batch_size      = 64\n",
    "validation_size = 0.1                                # Ratio between validation set size to total size\n",
    "test_level_num  = 0                                  # Which level to reconstruct for RECONSTRUCTION and REPAIR\n",
    "noise_level     = 0.025                              # Amount of corruption generated for REPAIR and GENERATION modes"
   ]
  },
  {
   "cell_type": "code",
   "execution_count": 3,
   "metadata": {
    "collapsed": true
   },
   "outputs": [],
   "source": [
    "def get_windows(level, windows_width, windows_height):\n",
    "    level_height = len(level)\n",
    "    level_width = len(level[0])\n",
    "    if windows_height > level_height or windows_width > level_width:\n",
    "        print('Error: Window size larger than level size.')\n",
    "        sys.exit(0)\n",
    "\n",
    "    windows = []\n",
    "    for i in range(level_height - windows_height + 1):\n",
    "        windows.append([])\n",
    "        for j in range(level_width - windows_width + 1):\n",
    "            windows[i].append([[symbol for symbol in line[j:j + windows_width]] \n",
    "                                       for line in level[i:i + windows_height]])\n",
    "    return windows # (level_row, level_column, window_row, window_column)\n",
    "\n",
    "def get_features(symbol):\n",
    "    return int(symbol != empty_symbol)"
   ]
  },
  {
   "cell_type": "code",
   "execution_count": 4,
   "metadata": {
    "collapsed": true
   },
   "outputs": [],
   "source": [
    "\n",
    "window_size = window_width * window_height\n",
    "levels = []  # (level, row, column)\n",
    "windows = [] # (level, row, column, flattened_window)\n",
    "\n",
    "# Data loading and preprocessing\n",
    "for level_index, file_name in enumerate(os.listdir(base_path)):\n",
    "    with open(base_path + \"/\" + file_name, 'r') as file_text:\n",
    "        lines = file_text.readlines()\n",
    "\n",
    "        # - Trim newline characters\n",
    "        for line_index in range(len(lines)):\n",
    "            if lines[line_index][-1] == '\\n':\n",
    "                lines[line_index] = lines[line_index][:-1]\n",
    "\n",
    "        # - Generate features\n",
    "        level = [[get_features(symbol) for symbol in line] for line in lines]\n",
    "        levels.append(level)\n",
    "\n",
    "        # - Generate windows\n",
    "        windows.append([])\n",
    "        for row_index, row in enumerate(get_windows(level, window_width, window_height)):\n",
    "            windows[level_index].append([])\n",
    "            for column_index, window in enumerate(row):\n",
    "                window_flat = np.array(window).flatten().tolist()\n",
    "                windows[level_index][row_index].append(window_flat)\n"
   ]
  },
  {
   "cell_type": "code",
   "execution_count": 5,
   "metadata": {
    "collapsed": true
   },
   "outputs": [],
   "source": [
    "\n",
    "# Building the encoder\n",
    "encoder = tflearn.input_data(shape=[None, window_size])\n",
    "encoder = tflearn.fully_connected(encoder, outer_neurons)\n",
    "encoder = tflearn.fully_connected(encoder, inner_neurons)\n",
    "\n",
    "# Building the decoder\n",
    "decoder_inner = tflearn.fully_connected(encoder, outer_neurons)\n",
    "decoder = tflearn.fully_connected(decoder_inner, window_size, activation='leaky_relu')\n",
    "\n",
    "# Regression with mean square error\n",
    "net = tflearn.regression(decoder, optimizer='adam', learning_rate=learning_rate, loss='mean_square', metric=None)\n",
    "model = tflearn.DNN(net, tensorboard_verbose=0)"
   ]
  },
  {
   "cell_type": "code",
   "execution_count": 6,
   "metadata": {
    "collapsed": false
   },
   "outputs": [
    {
     "name": "stdout",
     "output_type": "stream",
     "text": [
      "Training Step: 2299  | total loss: \u001b[1m\u001b[32m0.01793\u001b[0m\u001b[0m | time: 0.245s\n",
      "| Adam | epoch: 020 | loss: 0.01793 -- iter: 7296/7333\n",
      "Training Step: 2300  | total loss: \u001b[1m\u001b[32m0.01720\u001b[0m\u001b[0m | time: 1.250s\n",
      "| Adam | epoch: 020 | loss: 0.01720 | val_loss: 0.01242 -- iter: 7333/7333\n",
      "--\n"
     ]
    },
    {
     "name": "stderr",
     "output_type": "stream",
     "text": [
      "/usr/local/lib/python2.7/dist-packages/matplotlib/figure.py:402: UserWarning: matplotlib is currently using a non-GUI backend, so cannot show the figure\n",
      "  \"matplotlib is currently using a non-GUI backend, \"\n"
     ]
    },
    {
     "data": {
      "image/png": "[encoded data removed]",
      "text/plain": [
       "<matplotlib.figure.Figure at 0x7f33107d89d0>"
      ]
     },
     "metadata": {},
     "output_type": "display_data"
    }
   ],
   "source": [
    "%matplotlib inline\n",
    "# Do stuff based on run mode\n",
    "if(run_mode == RECONSTRUCTION):\n",
    "\n",
    "    # - Split the test level from the training / validation sets\n",
    "    test_level = levels.pop(test_level_num)\n",
    "    test_windows = np.reshape(np.array(windows.pop(test_level_num)), (-1, window_size))\n",
    "    level_height = len(test_level)\n",
    "    level_width = len(test_level[0])\n",
    "\n",
    "    # - Training the autoencoder\n",
    "    temp = []\n",
    "    for level in windows:\n",
    "        temp += np.reshape(level, (-1, window_size)).tolist()\n",
    "    x_train, x_test, _, _ = train_test_split(temp, temp, test_size=validation_size, random_state=1267)\n",
    "    model.fit(x_train, x_train, n_epoch=num_epochs, validation_set=(x_test, x_test), run_id=\"auto_encoder\", batch_size=batch_size)\n",
    "\n",
    "    # - Begin dependent reconstruction of the test level\n",
    "    reconstructed = [[False for _ in range(level_width)] for _ in range(level_height)]\n",
    "    reconstruction = np.zeros((level_height, level_width), dtype=np.float32)\n",
    "    windows_predicted = model.predict(test_windows)\n",
    "    windows_predicted = np.reshape(windows_predicted, (level_height - window_height + 1, \n",
    "                                                       level_width - window_width + 1,\n",
    "                                                       window_height, window_width))\n",
    "    \n",
    "    # - Loop through all reconstructed windows\n",
    "    for row_index, row in enumerate(windows_predicted):\n",
    "        for column_index, window_flat in enumerate(row):\n",
    "            # -- Fill in empty tiles in level reconstruction\n",
    "            # -- Could be done more efficiently\n",
    "            for i in range(window_height):\n",
    "                for j in range(window_width):\n",
    "                    level_row_index = row_index + i\n",
    "                    level_column_index = column_index + j\n",
    "                    if not reconstructed[level_row_index][level_column_index]:\n",
    "                        tile = windows_predicted[row_index][column_index][i][j]\n",
    "                        tile = tile if grayscale else round(tile)\n",
    "                        reconstruction[level_row_index][level_column_index] = tile\n",
    "                        reconstructed[level_row_index][level_column_index] = True\n",
    "\n",
    "    # - Compare original images with their reconstructions\n",
    "    f, a = plt.subplots(2, 1, figsize=(10, 3))\n",
    "    temp = [[ii, ii, ii] for ii in np.array(test_level, dtype=np.float32).flatten()]\n",
    "    a[0].set_title('Original')\n",
    "    a[0].imshow(np.reshape(temp, (level_height, level_width, 3)))\n",
    "    temp = [[ii, ii, ii] for ii in np.array(reconstruction, dtype=np.float32).flatten()]\n",
    "    a[1].imshow(np.reshape(temp, (level_height, level_width, 3)))\n",
    "    a[1].set_title('Reconstructed')\n",
    "    f.show()\n",
    "\n",
    "elif(run_mode == RECOGNITION):\n",
    "\n",
    "    # - Splitting the training and validation sets\n",
    "    x_temp, y_temp = [], []\n",
    "    for level_index, level in enumerate(windows):\n",
    "        x_temp += np.reshape(level, (-1, window_size)).tolist()\n",
    "        y_temp += [level_index] * len(level) * len(level[0])\n",
    "    x_train, x_test, y_train, y_test = train_test_split(x_temp, y_temp, test_size=validation_size, random_state=1267)\n",
    "\n",
    "    # - Training the autoencoder\n",
    "    model.fit(x_train, x_train, n_epoch=num_epochs, validation_set=(x_test, x_test), run_id=\"auto_encoder\", batch_size=batch_size)\n",
    "\n",
    "    # - Retrieving hidden layer outputs\n",
    "    encoding_model = tflearn.DNN(encoder, session=model.session)\n",
    "    x_train = encoding_model.predict(x_train)\n",
    "    x_test = encoding_model.predict(x_test)\n",
    "\n",
    "    # Training the random forest classifier\n",
    "    # -- Not entirely sure if reusing the train / test sets here is allowed\n",
    "    classifier = RandomForestClassifier(n_estimators=10)\n",
    "    classifier.fit(x_train, y_train)\n",
    "\n",
    "    # Testing the random forest classifier\n",
    "    print(\"\\nClassification report for random forest classifier:\\n\\n%s\"\n",
    "        % metrics.classification_report(y_test, classifier.predict(x_test)))\n",
    "\n",
    "elif(run_mode == REPAIR):\n",
    "\n",
    "    # - Split the test level from the training / validation sets\n",
    "    test_level = levels.pop(test_level_num)\n",
    "    windows.pop(test_level_num)\n",
    "    level_height = len(test_level)\n",
    "    level_width = len(test_level[0])\n",
    "\n",
    "    # - Splitting the training and validation sets\n",
    "    temp = []\n",
    "    for level in windows:\n",
    "        temp += np.reshape(level, (-1, window_size)).tolist()\n",
    "    x_train, x_test, y_train, y_test = train_test_split(temp, temp, test_size=validation_size, random_state=1267)\n",
    "\n",
    "    # - Applying noise\n",
    "    for i, window in enumerate(x_train):\n",
    "        for j, tile in enumerate(window):\n",
    "            if np.random.rand() < noise_level:\n",
    "                x_train[i][j] = 1 - tile\n",
    "    for i, window in enumerate(x_test):\n",
    "        for j, tile in enumerate(window):\n",
    "            if np.random.rand() < noise_level:\n",
    "                x_test[i][j] = 1 - tile\n",
    "    test_level_noisy = [row[:] for row in test_level]\n",
    "    for i, row in enumerate(test_level_noisy):\n",
    "        for j, tile in enumerate(row):\n",
    "            if np.random.rand() < noise_level:\n",
    "                test_level_noisy[i][j] = 1 - tile\n",
    "    test_windows_noisy = get_windows(test_level_noisy, window_width, window_height)\n",
    "    test_windows_noisy = np.reshape(np.array(test_windows_noisy), (-1, window_size))\n",
    "\n",
    "    # - Training the autoencoder\n",
    "    model.fit(x_train, y_train, n_epoch=num_epochs, validation_set=(x_test, y_test), run_id=\"autoencoder\", batch_size=batch_size)\n",
    "\n",
    "    # - Begin dependent reconstruction of the test level\n",
    "    reconstructed = [[False for _ in range(level_width)] for _ in range(level_height)]\n",
    "    reconstruction = np.zeros((level_height, level_width), dtype=np.float32)\n",
    "    windows_predicted = model.predict(test_windows_noisy)\n",
    "    windows_predicted = np.reshape(windows_predicted, (level_height - window_height + 1, \n",
    "                                                       level_width - window_width + 1,\n",
    "                                                       window_height, window_width))\n",
    "    \n",
    "    # - Loop through all reconstructed windows\n",
    "    for row_index, row in enumerate(windows_predicted):\n",
    "        for column_index, window_flat in enumerate(row):\n",
    "            # -- Fill in empty tiles in level reconstruction\n",
    "            # -- Could be done more efficiently\n",
    "            for i in range(window_height):\n",
    "                for j in range(window_width):\n",
    "                    level_row_index = row_index + i\n",
    "                    level_column_index = column_index + j\n",
    "                    if not reconstructed[level_row_index][level_column_index]:\n",
    "                        tile = windows_predicted[row_index][column_index][i][j]\n",
    "                        tile = tile if grayscale else round(tile)\n",
    "                        reconstruction[level_row_index][level_column_index] = tile\n",
    "                        reconstructed[level_row_index][level_column_index] = True\n",
    "\n",
    "    # - Compare original images with their reconstructions\n",
    "    f, a = plt.subplots(3, 1, figsize=(10, 5))\n",
    "    temp = [[ii, ii, ii] for ii in np.array(test_level, dtype=np.float32).flatten()]\n",
    "    a[0].set_title('Original')\n",
    "    a[0].imshow(np.reshape(temp, (level_height, level_width, 3)))\n",
    "    temp = [[ii, ii, ii] for ii in np.array(test_level_noisy, dtype=np.float32).flatten()]\n",
    "    a[1].set_title('Original with Noise')\n",
    "    a[1].imshow(np.reshape(temp, (level_height, level_width, 3)))\n",
    "    temp = [[ii, ii, ii] for ii in np.array(reconstruction, dtype=np.float32).flatten()]\n",
    "    a[2].set_title('Repaired')\n",
    "    a[2].imshow(np.reshape(temp, (level_height, level_width, 3)))\n",
    "    f.show()\n"
   ]
  },
  {
   "cell_type": "code",
   "execution_count": null,
   "metadata": {
    "collapsed": true
   },
   "outputs": [],
   "source": []
  }
 ],
 "metadata": {
  "kernelspec": {
   "display_name": "Python 2",
   "language": "python",
   "name": "python2"
  },
  "language_info": {
   "codemirror_mode": {
    "name": "ipython",
    "version": 2
   },
   "file_extension": ".py",
   "mimetype": "text/x-python",
   "name": "python",
   "nbconvert_exporter": "python",
   "pygments_lexer": "ipython2",
   "version": "2.7.10"
  }
 },
 "nbformat": 4,
 "nbformat_minor": 1
}
