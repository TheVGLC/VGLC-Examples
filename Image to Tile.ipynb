{
 "cells": [
  {
   "cell_type": "code",
   "execution_count": 1,
   "metadata": {
    "collapsed": true
   },
   "outputs": [],
   "source": [
    "import cv2\n",
    "import numpy as np\n",
    "from os import listdir\n",
    "from os.path import isfile, join\n",
    "import matplotlib.pyplot as plt"
   ]
  },
  {
   "cell_type": "code",
   "execution_count": 2,
   "metadata": {
    "collapsed": true
   },
   "outputs": [],
   "source": [
    "legend = {'-':u'-',\n",
    "          'Coin':u'o',\n",
    "          'Goomba':u'g',\n",
    "          'Ground':u'X',\n",
    "          'hill_angle_l':u'/',\n",
    "          'hill_angle_r':u'\\\\',\n",
    "          'hill_l':u'{',\n",
    "          'hill_r':u'}',\n",
    "          'hill_mid':u' ',\n",
    "          'pipe':u'[',\n",
    "          'pipe_r':u']',\n",
    "          'pipe_ul':u'<',\n",
    "          'pipe_ur':u'>',\n",
    "          'bush_l':u'a',\n",
    "          'bush_r':u'e',\n",
    "          'bush_m':u'u',\n",
    "          'stairs':u'#',\n",
    "          'block':u'H',\n",
    "          'hammerbro':u'𝐡',\n",
    "          'question_mushroom':u'?',\n",
    "          'question_star':u'*',\n",
    "          'question_1up':u'!',\n",
    "          'question_block':u'Q',\n",
    "          'bush_t':u'n',\n",
    "          'Koopa':u'k',\n",
    "          'cloud_ul':u'4',\n",
    "          'cloud_ur':u'6',\n",
    "          'cloud_um':u'5',\n",
    "          'cloud_ll':u'1',\n",
    "          'cloud_lm':u'2',\n",
    "          'cloud_lr':u'3',\n",
    "          'coinblock':u'C',\n",
    "          'hill_top':u'm',\n",
    "          'Girder':u'&',\n",
    "          'Pirannha':u'V',\n",
    "          'Bullet':u'B',\n",
    "          'buzzy_beetle':u'Ƅ',\n",
    "          'bullet_base':u'b',\n",
    "          'red_koopa':u'r',\n",
    "          'treetop_left':u'‹',\n",
    "          'treetop_right':u'›',\n",
    "          'treetop_mid':u'~',\n",
    "          'mushroom_left':u'‹',\n",
    "          'mushroom_right':u'›',\n",
    "          'mushroom_mid':u'~',\n",
    "          'bark':u'ʜ',\n",
    "          'flying_red_koopa':u'κ',\n",
    "          'flying_koopa':u'Ꮶ',\n",
    "          'mushroom_stem_top':u'∪',\n",
    "          'mushroom_stem':u'U',\n",
    "          'treetop':u'^',\n",
    "          'treebottom':u'v',\n",
    "          'trunk':u'|',\n",
    "          'shrub':u'O',\n",
    "          'fence':u'%',\n",
    "          'mush_bridge':u'_',\n",
    "          'snow_treetop':u'^',\n",
    "          'snow_treebottom':u'v',\n",
    "          'snow_shrub':u'O',\n",
    "          'Bridge':u'#',\n",
    "          'snow_treetop_left':u'‹',\n",
    "          'snow_treetop_right':u'›',\n",
    "          'snow_treetop_mid':u'~',\n",
    "          'spiny':u's'\n",
    "          }"
   ]
  },
  {
   "cell_type": "code",
   "execution_count": 3,
   "metadata": {
    "collapsed": true
   },
   "outputs": [],
   "source": [
    "\n",
    "def findSubImageLocations(image,subImage,confidence):\n",
    "    allLocations = [ np.array([]) , np.array([])]\n",
    "    \n",
    "        \n",
    "    result = cv2.matchTemplate(image,subImage,cv2.TM_CCOEFF_NORMED)\n",
    "    match_indices = np.arange(result.size)[(result>confidence).flatten()]\n",
    "\n",
    "    locations =  np.unravel_index(match_indices,result.shape)\n",
    "        \n",
    "       # print locations\n",
    "    allLocations[0] = np.concatenate((allLocations[0],locations[0]+(subImage.shape[0]-16)))\n",
    "    allLocations[1] = np.concatenate((allLocations[1],locations[1]))\n",
    "    return allLocations,  result.ravel()[ match_indices]     \n"
   ]
  },
  {
   "cell_type": "code",
   "execution_count": 4,
   "metadata": {
    "collapsed": true
   },
   "outputs": [],
   "source": [
    "levelname = 'VGLC/Super Mario Bros/Original/mario-1-1.png'\n",
    "level = cv2.imread(levelname)\n",
    "\n",
    "tile_path = 'SMBTiles/'\n",
    "tile_files = [f for f in listdir(tile_path) if isfile(join(tile_path, f))]\n",
    "sprite2ur = {}\n",
    "for f in tile_files:\n",
    "    ind = f.find('-')\n",
    "    if ind == -1:\n",
    "        ind = f.index('.')\n",
    "    sprite2ur[f] = f[:ind]     \n",
    "               "
   ]
  },
  {
   "cell_type": "code",
   "execution_count": 5,
   "metadata": {
    "collapsed": false
   },
   "outputs": [],
   "source": [
    "\n",
    "levelMap = {}\n",
    "\n",
    "maxX = -1\n",
    "maxY = -1\n",
    "\n",
    "levelConf = {}\n",
    "levelPriority = {}\n",
    "priority = {sprite2ur[sprite]:0 for sprite in sprite2ur}\n",
    "for sprite in ['question_mushroom','question_star','coinblock','question_1up']:\n",
    "    priority[sprite] = 1\n",
    "sprites = set(['red_koopa','flying_koopa','Koopa','Goomba','hammerbro','flying_red_koopa',\n",
    "               'Pirannha','Girder','buzzy_beetle','spiny','mushroom_bridge'])\n",
    "\n",
    "\n",
    "\n",
    "#For all sprites\n",
    "for sprite in sprite2ur:\n",
    "    #Find sprite locations and their associated confidences using OpenCV's template matching\n",
    "    #as a default, only allow those with a confidence >= 0.7 to be considered\n",
    "    locs,conf = findSubImageLocations(level,cv2.imread(join(tile_path, sprite)),0.7)\n",
    "\n",
    "    for yy,xx,c in zip(locs[0],locs[1],conf):\n",
    "        mx = xx/16.\n",
    "        my = yy/16.\n",
    "\n",
    "        xx = int(np.round(xx/16.))\n",
    "        yy = int(np.round(yy/16.))\n",
    "        #If something is more than 20% off center, only allow it if it is a sprite\n",
    "        if (abs(xx-mx) > 0.2 or abs(yy-my) > 0.2) and sprite2ur[sprite] not in sprites:\n",
    "            continue\n",
    "        #Default to a confidence of -1\n",
    "        if (xx,yy) not in levelConf:\n",
    "            \n",
    "            levelConf[(xx,yy)] = -1\n",
    "            levelPriority[(xx,yy)] = -1\n",
    "        #If the current image has higher confidence and priority\n",
    "        if  c >levelConf[(xx,yy)] and priority[sprite2ur[sprite]] >= levelPriority[(xx,yy)]:\n",
    "            levelPriority[(xx,yy)] = priority[sprite2ur[sprite]]\n",
    "            levelConf[(xx,yy)] = c\n",
    "            levelMap[(xx,yy)] = sprite2ur[sprite]\n",
    "        #Keep track of level sizes\n",
    "        maxX = max(maxX,xx)\n",
    "        maxY = max(maxY,yy)"
   ]
  },
  {
   "cell_type": "code",
   "execution_count": 6,
   "metadata": {
    "collapsed": false
   },
   "outputs": [
    {
     "name": "stdout",
     "output_type": "stream",
     "text": [
      "--------------------------------------------------------------------------------\n",
      "-------------------456--------------4556---------------------------456----------\n",
      "--------456--------123-----45556----1223----------------456--------123-----45556\n",
      "--------123----------------12223------------------------123----------------12223\n",
      "----------------------Q---------------------------------------------------------\n",
      "--------------------------------------------------------------------------------\n",
      "-------------------------------------------------------------------------------g\n",
      "----------------------------------------------nn---------nn-----!---------------\n",
      "----------------Q---C?CQC-------------nn------<>---------<>------------------C?C\n",
      "--n-------------------------nn--------<>------[]--n------[]---------------------\n",
      "-/ \\-------------n----------<>--------[]------[]-/ \\-----[]------n--------------\n",
      "/ --\\------auuue/ \\--g-aue--[]--------[]gauue-[]/ - \\gg--[]auuue/ \\----aue------\n",
      "XXXXXXXXXXXXXXXXXXXXXXXXXXXXXXXXXXXXXXXXXXXXXXXXXXXXXXXXXXXXXXXXXXXXX--XXXXXXXXX\n"
     ]
    },
    {
     "data": {
      "image/png": "[encoded data removed]",
      "text/plain": [
       "<matplotlib.figure.Figure at 0x7fab49c18390>"
      ]
     },
     "metadata": {},
     "output_type": "display_data"
    }
   ],
   "source": [
    "\n",
    "levelStr = [['-' for xx in range(maxX+1)] for yy in range(maxY+1)] \n",
    "for loc,tile in levelMap.items():\n",
    "    levelStr[loc[1]][loc[0]] = tile\n",
    "for line in levelStr:\n",
    "    print ''.join([legend[l] for l in line][:80])\n",
    "    \n",
    "    \n",
    "plt.figure(figsize=(20,20))\n",
    "plt.imshow(level[:,:80*16,:])\n",
    "plt.show()\n",
    "\n"
   ]
  },
  {
   "cell_type": "code",
   "execution_count": null,
   "metadata": {
    "collapsed": true
   },
   "outputs": [],
   "source": []
  }
 ],
 "metadata": {
  "kernelspec": {
   "display_name": "Python 2",
   "language": "python",
   "name": "python2"
  },
  "language_info": {
   "codemirror_mode": {
    "name": "ipython",
    "version": 2
   },
   "file_extension": ".py",
   "mimetype": "text/x-python",
   "name": "python",
   "nbconvert_exporter": "python",
   "pygments_lexer": "ipython2",
   "version": "2.7.10"
  }
 },
 "nbformat": 4,
 "nbformat_minor": 1
}
