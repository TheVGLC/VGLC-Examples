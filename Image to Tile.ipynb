{
 "cells": [
  {
   "cell_type": "code",
   "execution_count": 1,
   "metadata": {
    "collapsed": true
   },
   "outputs": [],
   "source": [
    "import cv2\n",
    "import numpy as np\n",
    "from os import listdir\n",
    "from os.path import isfile, join\n",
    "import matplotlib.pyplot as plt"
   ]
  },
  {
   "cell_type": "markdown",
   "metadata": {},
   "source": [
    "We import all of the libraries we need -- Most importantly the cv2 for computer vision\n",
    "\n",
    "Below is the legend of tile filename to a Unicode character that will show up in the output text files -- no need to dig in now"
   ]
  },
  {
   "cell_type": "code",
   "execution_count": 2,
   "metadata": {
    "collapsed": true
   },
   "outputs": [],
   "source": [
    "legend = {'-':u'-',\n",
    "          'Coin':u'o',\n",
    "          'Goomba':u'g',\n",
    "          'Ground':u'X',\n",
    "          'hill_angle_l':u'/',\n",
    "          'hill_angle_r':u'\\\\',\n",
    "          'hill_l':u'{',\n",
    "          'hill_r':u'}',\n",
    "          'hill_mid':u' ',\n",
    "          'pipe':u'[',\n",
    "          'pipe_r':u']',\n",
    "          'pipe_ul':u'<',\n",
    "          'pipe_ur':u'>',\n",
    "          'bush_l':u'a',\n",
    "          'bush_r':u'e',\n",
    "          'bush_m':u'u',\n",
    "          'stairs':u'#',\n",
    "          'block':u'H',\n",
    "          'hammerbro':u'𝐡',\n",
    "          'question_mushroom':u'?',\n",
    "          'question_star':u'*',\n",
    "          'question_1up':u'!',\n",
    "          'question_block':u'Q',\n",
    "          'bush_t':u'n',\n",
    "          'Koopa':u'k',\n",
    "          'cloud_ul':u'4',\n",
    "          'cloud_ur':u'6',\n",
    "          'cloud_um':u'5',\n",
    "          'cloud_ll':u'1',\n",
    "          'cloud_lm':u'2',\n",
    "          'cloud_lr':u'3',\n",
    "          'coinblock':u'C',\n",
    "          'hill_top':u'm',\n",
    "          'Girder':u'&',\n",
    "          'Pirannha':u'V',\n",
    "          'Bullet':u'B',\n",
    "          'buzzy_beetle':u'Ƅ',\n",
    "          'bullet_base':u'b',\n",
    "          'red_koopa':u'r',\n",
    "          'treetop_left':u'‹',\n",
    "          'treetop_right':u'›',\n",
    "          'treetop_mid':u'~',\n",
    "          'mushroom_left':u'‹',\n",
    "          'mushroom_right':u'›',\n",
    "          'mushroom_mid':u'~',\n",
    "          'bark':u'ʜ',\n",
    "          'flying_red_koopa':u'κ',\n",
    "          'flying_koopa':u'Ꮶ',\n",
    "          'mushroom_stem_top':u'∪',\n",
    "          'mushroom_stem':u'U',\n",
    "          'treetop':u'^',\n",
    "          'treebottom':u'v',\n",
    "          'trunk':u'|',\n",
    "          'shrub':u'O',\n",
    "          'fence':u'%',\n",
    "          'mush_bridge':u'_',\n",
    "          'snow_treetop':u'^',\n",
    "          'snow_treebottom':u'v',\n",
    "          'snow_shrub':u'O',\n",
    "          'Bridge':u'#',\n",
    "          'snow_treetop_left':u'‹',\n",
    "          'snow_treetop_right':u'›',\n",
    "          'snow_treetop_mid':u'~',\n",
    "          'spiny':u's'\n",
    "          }"
   ]
  },
  {
   "cell_type": "markdown",
   "metadata": {},
   "source": [
    "Here we define a helper function -- given a full image, it finds all locations of a sub image that pass a confidence threshold"
   ]
  },
  {
   "cell_type": "code",
   "execution_count": 3,
   "metadata": {
    "collapsed": true
   },
   "outputs": [],
   "source": [
    "\n",
    "def findSubImageLocations(image,subImage,confidence):\n",
    "    allLocations = [ np.array([]) , np.array([])]\n",
    "    \n",
    "        \n",
    "    result = cv2.matchTemplate(image,subImage,cv2.TM_CCOEFF_NORMED)\n",
    "    match_indices = np.arange(result.size)[(result>confidence).flatten()]\n",
    "\n",
    "    locations =  np.unravel_index(match_indices,result.shape)\n",
    "        \n",
    "       # print locations\n",
    "    allLocations[0] = np.concatenate((allLocations[0],locations[0]+(subImage.shape[0]-16)))\n",
    "    allLocations[1] = np.concatenate((allLocations[1],locations[1]))\n",
    "    return allLocations,  result.ravel()[ match_indices]     \n"
   ]
  },
  {
   "cell_type": "markdown",
   "metadata": {},
   "source": [
    "We now read in a level, and define all of the sub tiles that will make up the level image"
   ]
  },
  {
   "cell_type": "code",
   "execution_count": 4,
   "metadata": {
    "collapsed": true
   },
   "outputs": [],
   "source": [
    "levelname = 'VGLC/Super Mario Bros/Original/mario-1-1.png'\n",
    "level = cv2.imread(levelname)\n",
    "\n",
    "tile_path = 'SMBTiles/'\n",
    "tile_files = [f for f in listdir(tile_path) if isfile(join(tile_path, f))]\n",
    "sprite2ur = {}\n",
    "for f in tile_files:\n",
    "    ind = f.find('-')\n",
    "    if ind == -1:\n",
    "        ind = f.index('.')\n",
    "    sprite2ur[f] = f[:ind]     \n",
    "               "
   ]
  },
  {
   "cell_type": "markdown",
   "metadata": {},
   "source": [
    "For all sprites, we find all possible locations, recording the highest confidence sprite, given it has the highest priority"
   ]
  },
  {
   "cell_type": "code",
   "execution_count": 26,
   "metadata": {
    "collapsed": false
   },
   "outputs": [],
   "source": [
    "\n",
    "levelMap = {}\n",
    "\n",
    "maxX = -1\n",
    "maxY = -1\n",
    "\n",
    "have_priority = ['question_mushroom','question_star','coinblock','question_1up']\n",
    "sprites = set(['red_koopa','flying_koopa','Koopa','Goomba','hammerbro','flying_red_koopa',\n",
    "               'Pirannha','Girder','buzzy_beetle','spiny','mushroom_bridge'])\n",
    "priority = {sprite2ur[sprite]:0 for sprite in sprite2ur}\n",
    "for sprite in have_priority:\n",
    "    priority[sprite] = 1\n",
    "levelConf = {}\n",
    "levelPriority = {}\n",
    "\n",
    "\n",
    "#For all sprites\n",
    "for sprite in sprite2ur:\n",
    "    #Find sprite locations and their associated confidences using OpenCV's template matching\n",
    "    #as a default, only allow those with a confidence >= 0.7 to be considered\n",
    "    locs,conf = findSubImageLocations(level,cv2.imread(join(tile_path, sprite)),0.7)\n",
    "\n",
    "    for yy,xx,c in zip(locs[0],locs[1],conf):\n",
    "        mx = xx/16.\n",
    "        my = yy/16.\n",
    "\n",
    "        xx = int(np.round(xx/16.))\n",
    "        yy = int(np.round(yy/16.))\n",
    "        #If something is more than 20% off center, only allow it if it is a sprite\n",
    "        if (abs(xx-mx) > 0.2 or abs(yy-my) > 0.2) and sprite2ur[sprite] not in sprites:\n",
    "            continue\n",
    "        #Default to a confidence of -1\n",
    "        if (xx,yy) not in levelConf:\n",
    "            \n",
    "            levelConf[(xx,yy)] = -1\n",
    "            levelPriority[(xx,yy)] = -1\n",
    "        #If the current image has higher confidence and priority\n",
    "        if  c >levelConf[(xx,yy)] and priority[sprite2ur[sprite]] >= levelPriority[(xx,yy)]:\n",
    "            levelPriority[(xx,yy)] = priority[sprite2ur[sprite]]\n",
    "            levelConf[(xx,yy)] = c\n",
    "            levelMap[(xx,yy)] = sprite2ur[sprite]\n",
    "        #Keep track of level sizes\n",
    "        maxX = max(maxX,xx)\n",
    "        maxY = max(maxY,yy)"
   ]
  },
  {
   "cell_type": "markdown",
   "metadata": {},
   "source": [
    "Now we go through and stringify the level"
   ]
  },
  {
   "cell_type": "code",
   "execution_count": 27,
   "metadata": {
    "collapsed": false
   },
   "outputs": [
    {
     "name": "stdout",
     "output_type": "stream",
     "text": [
      "--------------------------------------------------------------------------------\n",
      "-------------------456--------------4556---------------------------456----------\n",
      "--------456--------123-----45556----1223----------------456--------123-----45556\n",
      "--------123----------------12223------------------------123----------------12223\n",
      "----------------------Q---------------------------------------------------------\n",
      "--------------------------------------------------------------------------------\n",
      "-------------------------------------------------------------------------------g\n",
      "----------------------------------------------nn---------nn-----!---------------\n",
      "----------------Q---C?CQC-------------nn------<>---------<>------------------C?C\n",
      "--n-------------------------nn--------<>------[]--n------[]---------------------\n",
      "-/ \\-------------n----------<>--------[]------[]-/ \\-----[]------n--------------\n",
      "/ --\\------auuue/ \\--g-aue--[]--------[]gauue-[]/ - \\gg--[]auuue/ \\----aue------\n",
      "XXXXXXXXXXXXXXXXXXXXXXXXXXXXXXXXXXXXXXXXXXXXXXXXXXXXXXXXXXXXXXXXXXXXX--XXXXXXXXX\n"
     ]
    },
    {
     "data": {
      "image/png": "[encoded data removed]",
      "text/plain": [
       "<matplotlib.figure.Figure at 0x7fe556d9d090>"
      ]
     },
     "metadata": {},
     "output_type": "display_data"
    }
   ],
   "source": [
    "\n",
    "levelStr = [['-' for xx in range(maxX+1)] for yy in range(maxY+1)] \n",
    "for loc,tile in levelMap.items():\n",
    "    levelStr[loc[1]][loc[0]] = tile\n",
    "for line in levelStr:\n",
    "    print ''.join([legend[l] for l in line][:80])\n",
    "    \n",
    "    \n",
    "plt.figure(figsize=(11.75,11.75))\n",
    "plt.imshow(level[:,:80*16,:])\n",
    "plt.tick_params(\n",
    "    axis='both',          # changes apply to the x-axis\n",
    "    which='both',      # both major and minor ticks are affected\n",
    "    bottom='off',      # ticks along the bottom edge are off\n",
    "    top='off',         # ticks along the top edge are off\n",
    "    labelbottom='off',   # labels along the bottom edge are off\n",
    "    left='off',      # ticks along the bottom edge are off\n",
    "    right='off',         # ticks along the top edge are off\n",
    "    labelleft='off') # labels along the bottom edge are off) \n",
    "plt.show()\n",
    "\n"
   ]
  },
  {
   "cell_type": "code",
   "execution_count": 20,
   "metadata": {
    "collapsed": true
   },
   "outputs": [],
   "source": [
    "def get_tile_map(levelname,tile_path,have_priority,sprites):\n",
    "    level = cv2.imread(levelname)\n",
    "        \n",
    "    levelMap = {}\n",
    "\n",
    "    maxX = -1\n",
    "    maxY = -1\n",
    "\n",
    "    levelConf = {}\n",
    "    levelPriority = {}\n",
    "    priority = {sprite2ur[sprite]:0 for sprite in sprite2ur}\n",
    "    for sprite in have_priority:\n",
    "        priority[sprite] = 1\n",
    "   \n",
    "\n",
    "\n",
    "    #For all sprites\n",
    "    for sprite in sprite2ur:\n",
    "        #Find sprite locations and their associated confidences using OpenCV's template matching\n",
    "        #as a default, only allow those with a confidence >= 0.7 to be considered\n",
    "        locs,conf = findSubImageLocations(level,cv2.imread(join(tile_path, sprite)),0.7)\n",
    "\n",
    "        for yy,xx,c in zip(locs[0],locs[1],conf):\n",
    "            mx = xx/16.\n",
    "            my = yy/16.\n",
    "\n",
    "            xx = int(np.round(xx/16.))\n",
    "            yy = int(np.round(yy/16.))\n",
    "            #If something is more than 20% off center, only allow it if it is a sprite\n",
    "            if (abs(xx-mx) > 0.2 or abs(yy-my) > 0.2) and sprite2ur[sprite] not in sprites:\n",
    "                continue\n",
    "            #Default to a confidence of -1\n",
    "            if (xx,yy) not in levelConf:\n",
    "\n",
    "                levelConf[(xx,yy)] = -1\n",
    "                levelPriority[(xx,yy)] = -1\n",
    "            #If the current image has higher confidence and priority\n",
    "            if  c >levelConf[(xx,yy)] and priority[sprite2ur[sprite]] >= levelPriority[(xx,yy)]:\n",
    "                levelPriority[(xx,yy)] = priority[sprite2ur[sprite]]\n",
    "                levelConf[(xx,yy)] = c\n",
    "                levelMap[(xx,yy)] = sprite2ur[sprite]\n",
    "            #Keep track of level sizes\n",
    "            maxX = max(maxX,xx)\n",
    "            maxY = max(maxY,yy)\n",
    "            \n",
    "    levelStr = [['-' for xx in range(maxX+1)] for yy in range(maxY+1)] \n",
    "    for loc,tile in levelMap.items():\n",
    "        levelStr[loc[1]][loc[0]] = tile\n",
    "    outStr = '\\n'.join([''.join([legend[l] for l in line]) for line in levelStr])\n",
    "    return outStr\n"
   ]
  },
  {
   "cell_type": "code",
   "execution_count": 28,
   "metadata": {
    "collapsed": false
   },
   "outputs": [
    {
     "ename": "KeyboardInterrupt",
     "evalue": "",
     "output_type": "error",
     "traceback": [
      "\u001b[0;31m---------------------------------------------------------------------------\u001b[0m",
      "\u001b[0;31mKeyboardInterrupt\u001b[0m                         Traceback (most recent call last)",
      "\u001b[0;32m<ipython-input-28-3c08dd50172f>\u001b[0m in \u001b[0;36m<module>\u001b[0;34m()\u001b[0m\n\u001b[1;32m     11\u001b[0m     \u001b[0;32mwith\u001b[0m \u001b[0mopen\u001b[0m\u001b[0;34m(\u001b[0m\u001b[0moutput_prefix\u001b[0m \u001b[0;34m+\u001b[0m \u001b[0;34m'{}.txt'\u001b[0m\u001b[0;34m.\u001b[0m\u001b[0mformat\u001b[0m\u001b[0;34m(\u001b[0m\u001b[0mfile_index\u001b[0m\u001b[0;34m)\u001b[0m\u001b[0;34m,\u001b[0m\u001b[0;34m'w'\u001b[0m\u001b[0;34m)\u001b[0m \u001b[0;32mas\u001b[0m \u001b[0moutput_file\u001b[0m\u001b[0;34m:\u001b[0m\u001b[0;34m\u001b[0m\u001b[0m\n\u001b[1;32m     12\u001b[0m         output_file.write(get_tile_map(filename,tile_path = tile_path,\n\u001b[0;32m---> 13\u001b[0;31m                                        have_priority=have_priority, sprites=sprites).encode('utf8'))\n\u001b[0m",
      "\u001b[0;32m<ipython-input-20-fd90505deb46>\u001b[0m in \u001b[0;36mget_tile_map\u001b[0;34m(levelname, tile_path, have_priority, sprites)\u001b[0m\n\u001b[1;32m     19\u001b[0m         \u001b[0;31m#Find sprite locations and their associated confidences using OpenCV's template matching\u001b[0m\u001b[0;34m\u001b[0m\u001b[0;34m\u001b[0m\u001b[0m\n\u001b[1;32m     20\u001b[0m         \u001b[0;31m#as a default, only allow those with a confidence >= 0.7 to be considered\u001b[0m\u001b[0;34m\u001b[0m\u001b[0;34m\u001b[0m\u001b[0m\n\u001b[0;32m---> 21\u001b[0;31m         \u001b[0mlocs\u001b[0m\u001b[0;34m,\u001b[0m\u001b[0mconf\u001b[0m \u001b[0;34m=\u001b[0m \u001b[0mfindSubImageLocations\u001b[0m\u001b[0;34m(\u001b[0m\u001b[0mlevel\u001b[0m\u001b[0;34m,\u001b[0m\u001b[0mcv2\u001b[0m\u001b[0;34m.\u001b[0m\u001b[0mimread\u001b[0m\u001b[0;34m(\u001b[0m\u001b[0mjoin\u001b[0m\u001b[0;34m(\u001b[0m\u001b[0mtile_path\u001b[0m\u001b[0;34m,\u001b[0m \u001b[0msprite\u001b[0m\u001b[0;34m)\u001b[0m\u001b[0;34m)\u001b[0m\u001b[0;34m,\u001b[0m\u001b[0;36m0.7\u001b[0m\u001b[0;34m)\u001b[0m\u001b[0;34m\u001b[0m\u001b[0m\n\u001b[0m\u001b[1;32m     22\u001b[0m \u001b[0;34m\u001b[0m\u001b[0m\n\u001b[1;32m     23\u001b[0m         \u001b[0;32mfor\u001b[0m \u001b[0myy\u001b[0m\u001b[0;34m,\u001b[0m\u001b[0mxx\u001b[0m\u001b[0;34m,\u001b[0m\u001b[0mc\u001b[0m \u001b[0;32min\u001b[0m \u001b[0mzip\u001b[0m\u001b[0;34m(\u001b[0m\u001b[0mlocs\u001b[0m\u001b[0;34m[\u001b[0m\u001b[0;36m0\u001b[0m\u001b[0;34m]\u001b[0m\u001b[0;34m,\u001b[0m\u001b[0mlocs\u001b[0m\u001b[0;34m[\u001b[0m\u001b[0;36m1\u001b[0m\u001b[0;34m]\u001b[0m\u001b[0;34m,\u001b[0m\u001b[0mconf\u001b[0m\u001b[0;34m)\u001b[0m\u001b[0;34m:\u001b[0m\u001b[0;34m\u001b[0m\u001b[0m\n",
      "\u001b[0;32m<ipython-input-3-0bd1eae325e8>\u001b[0m in \u001b[0;36mfindSubImageLocations\u001b[0;34m(image, subImage, confidence)\u001b[0m\n\u001b[1;32m      4\u001b[0m \u001b[0;34m\u001b[0m\u001b[0m\n\u001b[1;32m      5\u001b[0m \u001b[0;34m\u001b[0m\u001b[0m\n\u001b[0;32m----> 6\u001b[0;31m     \u001b[0mresult\u001b[0m \u001b[0;34m=\u001b[0m \u001b[0mcv2\u001b[0m\u001b[0;34m.\u001b[0m\u001b[0mmatchTemplate\u001b[0m\u001b[0;34m(\u001b[0m\u001b[0mimage\u001b[0m\u001b[0;34m,\u001b[0m\u001b[0msubImage\u001b[0m\u001b[0;34m,\u001b[0m\u001b[0mcv2\u001b[0m\u001b[0;34m.\u001b[0m\u001b[0mTM_CCOEFF_NORMED\u001b[0m\u001b[0;34m)\u001b[0m\u001b[0;34m\u001b[0m\u001b[0m\n\u001b[0m\u001b[1;32m      7\u001b[0m     \u001b[0mmatch_indices\u001b[0m \u001b[0;34m=\u001b[0m \u001b[0mnp\u001b[0m\u001b[0;34m.\u001b[0m\u001b[0marange\u001b[0m\u001b[0;34m(\u001b[0m\u001b[0mresult\u001b[0m\u001b[0;34m.\u001b[0m\u001b[0msize\u001b[0m\u001b[0;34m)\u001b[0m\u001b[0;34m[\u001b[0m\u001b[0;34m(\u001b[0m\u001b[0mresult\u001b[0m\u001b[0;34m>\u001b[0m\u001b[0mconfidence\u001b[0m\u001b[0;34m)\u001b[0m\u001b[0;34m.\u001b[0m\u001b[0mflatten\u001b[0m\u001b[0;34m(\u001b[0m\u001b[0;34m)\u001b[0m\u001b[0;34m]\u001b[0m\u001b[0;34m\u001b[0m\u001b[0m\n\u001b[1;32m      8\u001b[0m \u001b[0;34m\u001b[0m\u001b[0m\n",
      "\u001b[0;31mKeyboardInterrupt\u001b[0m: "
     ]
    }
   ],
   "source": [
    "\n",
    "have_priority = ['question_mushroom','question_star','coinblock','question_1up']\n",
    "sprites = set(['red_koopa','flying_koopa','Koopa','Goomba','hammerbro','flying_red_koopa',\n",
    "               'Pirannha','Girder','buzzy_beetle','spiny','mushroom_bridge'])\n",
    "\n",
    "output_prefix = 'smb_level'\n",
    "tile_path = 'SMBTiles'\n",
    "level_path = 'VGLC/Super Mario Bros/Original/'\n",
    "\n",
    "for file_index, filename in enumerate([join(level_path,f) for f in listdir(level_path) if isfile(join(level_path, f))]):\n",
    "    with open(output_prefix + '{}.txt'.format(file_index),'w') as output_file:\n",
    "        output_file.write(get_tile_map(filename,tile_path = tile_path,\n",
    "                                       have_priority=have_priority, sprites=sprites).encode('utf8'))"
   ]
  },
  {
   "cell_type": "code",
   "execution_count": null,
   "metadata": {
    "collapsed": true
   },
   "outputs": [],
   "source": []
  }
 ],
 "metadata": {
  "kernelspec": {
   "display_name": "Python 2",
   "language": "python",
   "name": "python2"
  },
  "language_info": {
   "codemirror_mode": {
    "name": "ipython",
    "version": 2
   },
   "file_extension": ".py",
   "mimetype": "text/x-python",
   "name": "python",
   "nbconvert_exporter": "python",
   "pygments_lexer": "ipython2",
   "version": "2.7.10"
  }
 },
 "nbformat": 4,
 "nbformat_minor": 1
}
