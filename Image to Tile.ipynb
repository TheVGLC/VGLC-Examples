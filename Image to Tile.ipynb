{
 "cells": [
  {
   "cell_type": "code",
   "execution_count": 7,
   "metadata": {
    "collapsed": true
   },
   "outputs": [],
   "source": [
    "import cv2\n",
    "import numpy as np\n",
    "from os import listdir\n",
    "from os.path import isfile, join\n",
    "import matplotlib.pyplot as plt"
   ]
  },
  {
   "cell_type": "code",
   "execution_count": 2,
   "metadata": {
    "collapsed": true
   },
   "outputs": [],
   "source": [
    "legend = {'-':u'-',\n",
    "          'Coin':u'o',\n",
    "          'Goomba':u'g',\n",
    "          'Ground':u'X',\n",
    "          'hill_angle_l':u'/',\n",
    "          'hill_angle_r':u'\\\\',\n",
    "          'hill_l':u'{',\n",
    "          'hill_r':u'}',\n",
    "          'hill_mid':u' ',\n",
    "          'pipe':u'[',\n",
    "          'pipe_r':u']',\n",
    "          'pipe_ul':u'<',\n",
    "          'pipe_ur':u'>',\n",
    "          'bush_l':u'a',\n",
    "          'bush_r':u'e',\n",
    "          'bush_m':u'u',\n",
    "          'stairs':u'#',\n",
    "          'block':u'H',\n",
    "          'hammerbro':u'𝐡',\n",
    "          'question_mushroom':u'?',\n",
    "          'question_star':u'*',\n",
    "          'question_1up':u'!',\n",
    "          'question_block':u'Q',\n",
    "          'bush_t':u'n',\n",
    "          'Koopa':u'k',\n",
    "          'cloud_ul':u'4',\n",
    "          'cloud_ur':u'6',\n",
    "          'cloud_um':u'5',\n",
    "          'cloud_ll':u'1',\n",
    "          'cloud_lm':u'2',\n",
    "          'cloud_lr':u'3',\n",
    "          'coinblock':u'C',\n",
    "          'hill_top':u'm',\n",
    "          'Girder':u'&',\n",
    "          'Pirannha':u'V',\n",
    "          'Bullet':u'B',\n",
    "          'buzzy_beetle':u'Ƅ',\n",
    "          'bullet_base':u'b',\n",
    "          'red_koopa':u'r',\n",
    "          'treetop_left':u'‹',\n",
    "          'treetop_right':u'›',\n",
    "          'treetop_mid':u'~',\n",
    "          'mushroom_left':u'‹',\n",
    "          'mushroom_right':u'›',\n",
    "          'mushroom_mid':u'~',\n",
    "          'bark':u'ʜ',\n",
    "          'flying_red_koopa':u'κ',\n",
    "          'flying_koopa':u'Ꮶ',\n",
    "          'mushroom_stem_top':u'∪',\n",
    "          'mushroom_stem':u'U',\n",
    "          'treetop':u'^',\n",
    "          'treebottom':u'v',\n",
    "          'trunk':u'|',\n",
    "          'shrub':u'O',\n",
    "          'fence':u'%',\n",
    "          'mush_bridge':u'_',\n",
    "          'snow_treetop':u'^',\n",
    "          'snow_treebottom':u'v',\n",
    "          'snow_shrub':u'O',\n",
    "          'Bridge':u'#',\n",
    "          'snow_treetop_left':u'‹',\n",
    "          'snow_treetop_right':u'›',\n",
    "          'snow_treetop_mid':u'~',\n",
    "          'spiny':u's'\n",
    "          }"
   ]
  },
  {
   "cell_type": "code",
   "execution_count": 3,
   "metadata": {
    "collapsed": true
   },
   "outputs": [],
   "source": [
    "\n",
    "def findSubImageLocations(image,subImage,confidence):\n",
    "    allLocations = [ np.array([]) , np.array([])]\n",
    "    \n",
    "        \n",
    "    result = cv2.matchTemplate(image,subImage,cv2.TM_CCOEFF_NORMED)\n",
    "    match_indices = np.arange(result.size)[(result>confidence).flatten()]\n",
    "\n",
    "    locations =  np.unravel_index(match_indices,result.shape)\n",
    "        \n",
    "       # print locations\n",
    "    allLocations[0] = np.concatenate((allLocations[0],locations[0]+(subImage.shape[0]-16)))\n",
    "    allLocations[1] = np.concatenate((allLocations[1],locations[1]))\n",
    "    return allLocations,  result.ravel()[ match_indices]     \n"
   ]
  },
  {
   "cell_type": "code",
   "execution_count": 4,
   "metadata": {
    "collapsed": true
   },
   "outputs": [],
   "source": [
    "levelname = 'VGLC/Super Mario Bros/Original/mario-1-1.png'\n",
    "level = cv2.imread(levelname)\n",
    "\n",
    "tile_path = 'SMBTiles/'\n",
    "tile_files = [f for f in listdir(tile_path) if isfile(join(tile_path, f))]\n",
    "sprite2ur = {}\n",
    "for f in tile_files:\n",
    "    ind = f.find('-')\n",
    "    if ind == -1:\n",
    "        ind = f.index('.')\n",
    "    sprite2ur[f] = f[:ind]     \n",
    "               "
   ]
  },
  {
   "cell_type": "code",
   "execution_count": 23,
   "metadata": {
    "collapsed": false
   },
   "outputs": [
    {
     "name": "stdout",
     "output_type": "stream",
     "text": [
      "{'question_mushroom.png': 0, 'Koopa-1D.png': 0, 'Pirannha-ud.png': 0, 'buzzy_beetle-1.png': 0, 'bush_t.png': 0, 'treetop_left-2.png': 0, 'treetop_left.png': 0, 'snow_treetop.png': 0, 'mushroom_left.png': 0, 'Goomba-2D.png': 0, 'trunk-D.png': 0, 'mush_bridge-2.png': 0, 'pipe_r-D.png': 0, 'Goomba-D.png': 0, 'question_block.png': 0, 'treebottom.png': 0, 'cloud_um-2d.png': 0, 'coinblock.png': 0, 'coinblock': 1, 'treetop_right.png': 0, 'question_mushroom-D.png': 0, 'buzzy_beetle-3.png': 0, 'bush_m-2.png': 0, 'cloud_ul-2D.png': 0, 'Koopa-2.png': 0, 'Koopa-1.png': 0, 'red_koopa-b.png': 0, 'bullet_base.png': 0, 'cloud_um.png': 0, 'question_mushroom-4D.png': 0, 'buzzy_beetle-1b.png': 0, 'Coin-D2.png': 0, 'hill_top-2.png': 0, 'Bridge.png': 0, 'fence.png': 0, 'flying_red_koopa-D.png': 0, 'Bridge-2.png': 0, 'shrub.png': 0, 'question_1up': 1, 'mushroom_stem_top.png': 0, 'hammerbro.png': 0, 'cloud_lm-2d.png': 0, 'snow_treetop_mid.png': 0, 'red_koopa.png': 0, 'cloud_ll-1.png': 0, 'Pirannha-2D.png': 0, 'stairs.png': 0, 'cloud_ur-1.png': 0, 'Koopa-3.png': 0, 'shrub-4.png': 0, 'cloud_umd.png': 0, 'pipe_ul-G.png': 0, 'Pirannha-2.png': 0, 'fence-D.png': 0, 'bullet_base-D.png': 0, 'Bullet-D.png': 0, 'cloud_ll-2d.png': 0, 'cloud_lm-2.png': 0, 'cloud_um-1.png': 0, 'spiny-2b.png': 0, 'pipe_ur-2j.png': 0, 'snow_treebottom.png': 0, 'mushroom_stem.png': 0, 'treetop_right-2.png': 0, 'flying_red_koopa-CD.png': 0, 'bark-2.png': 0, 'flying_red_koopa.png': 0, 'snow_treetop_left-2.png': 0, 'Bullet.png': 0, 'bush_l-1.png': 0, 'hill_angle_l-1.png': 0, 'cloud_ll-1d.png': 0, 'cloud_lm-1.png': 0, 'hammerbro-D.png': 0, 'bullet_base-2.png': 0, 'question_star.png': 0, 'pipe.png': 0, 'treetop.png': 0, 'question_1up.png': 0, 'cloud_ur.png': 0, 'flying_koopa-C.png': 0, 'question_star-2.png': 0, 'question_star-3.png': 0, 'question_mushroom-D2.png': 0, 'question_block-D.png': 0, 'red_koopa-D.png': 0, 'fence-2.png': 0, 'fence-3.png': 0, 'pipe_ul.png': 0, 'pipe_r.png': 0, 'snow_treetop_left.png': 0, 'block-D.png': 0, 'cloud_ur-1d.png': 0, 'question_mushroom': 1, 'Pirannha-5.png': 0, 'Goomba.png': 0, 'pipe_r-G.png': 0, 'treetop_mid.png': 0, 'pipe-D2.png': 0, 'cloud_uld.png': 0, 'cloud_ll-2.png': 0, 'pipe_r-G2.png': 0, 'cloud_ul-1.png': 0, 'question_mushroom-3.png': 0, 'spiny-1.png': 0, 'flying_red_koopa-C.png': 0, 'shrub-3.png': 0, 'Ground.png': 0, 'block.png': 0, 'pipe-G.png': 0, 'mush_bridge-4.png': 0, 'cloud_um-1d.png': 0, 'bush_r-2.png': 0, 'question_star-D.png': 0, 'flying_koopa-BD.png': 0, 'flying_koopa-B.png': 0, 'hill_angle_r-1.png': 0, 'Koopa-1b.png': 0, 'flying_red_koopa-B.png': 0, 'hill_mid-1.png': 0, 'Koopa-1bD.png': 0, 'hill_mid-4.png': 0, 'red_koopa-bD.png': 0, 'block-D2.png': 0, 'buzzy_beetle-3b.png': 0, 'snow_shrub.png': 0, 'Ground-2.png': 0, 'pipe_r-D2.png': 0, 'hill_mid-3.png': 0, 'bark.png': 0, 'Pirannha-R.png': 0, 'question_mushroom-D3.png': 0, 'pipe_ul-2.png': 0, 'cloud_ur-2D.png': 0, 'cloud_lm-1d.png': 0, 'cloud_lr-2.png': 0, 'cloud_urd.png': 0, 'question_mushroom-2.png': 0, 'cloud_um-2.png': 0, 'cloud_lr-1d.png': 0, 'Coin.png': 0, 'question_mushroom-D4.png': 0, 'cloud_lr-2d.png': 0, 'Coin-D24.png': 0, 'mush_bridge-3.png': 0, 'trunk.png': 0, 'Ground-D.png': 0, 'cloud_lr-1.png': 0, 'flying_koopa-D.png': 0, 'Goomba-2.png': 0, 'spiny-3.png': 0, 'hill_l-2.png': 0, 'Girder.png': 0, 'mushroom_right.png': 0, 'question_star': 1, 'pipe_ur-G.png': 0, 'Girder-2.png': 0, 'bush_m-1.png': 0, 'question_block-D2.png': 0, 'shrub-2.png': 0, 'cloud_ul.png': 0, 'flying_koopa-CD.png': 0, 'cloud_ul-2.png': 0, 'spiny-2.png': 0, 'Pirannha-6.png': 0, 'question_block-a.png': 0, 'question_block-_Da.png': 0, 'hill_r-2.png': 0, 'treetop_mid-2.png': 0, 'pipe_ur.png': 0, 'flying_red_koopa-BD.png': 0, 'stairs-D.png': 0, 'Bridge-D.png': 0, 'spiny-1b.png': 0, 'bush_l-2.png': 0, 'spiny-3b.png': 0, 'buzzy_beetle-D.png': 0, 'pipe-D.png': 0, 'bush_r-1.png': 0, 'Ground-D2.png': 0, 'snow_treetop_right-2.png': 0, 'flying_koopa.png': 0, 'flying_koopa-BC.png': 0, 'snow_treetop_mid-2.png': 0, 'block-2.png': 0, 'snow_treetop_right.png': 0, 'Pirannha.png': 0, 'cloud_ul-1d.png': 0, 'mushroom_mid.png': 0, 'mush_bridge.png': 0, 'flying_red_koopa-BC.png': 0, 'Coin-D.png': 0, 'cloud_ur-2.png': 0, 'enemies.png': 0, 'question_mushroom-5.png': 0}\n"
     ]
    },
    {
     "ename": "KeyError",
     "evalue": "'bush_t'",
     "output_type": "error",
     "traceback": [
      "\u001b[0;31m---------------------------------------------------------------------------\u001b[0m",
      "\u001b[0;31mKeyError\u001b[0m                                  Traceback (most recent call last)",
      "\u001b[0;32m<ipython-input-23-3678ba69d5f6>\u001b[0m in \u001b[0;36m<module>\u001b[0;34m()\u001b[0m\n\u001b[1;32m     36\u001b[0m             \u001b[0mlevelPriority\u001b[0m\u001b[0;34m[\u001b[0m\u001b[0;34m(\u001b[0m\u001b[0mxx\u001b[0m\u001b[0;34m,\u001b[0m\u001b[0myy\u001b[0m\u001b[0;34m)\u001b[0m\u001b[0;34m]\u001b[0m \u001b[0;34m=\u001b[0m \u001b[0;34m-\u001b[0m\u001b[0;36m1\u001b[0m\u001b[0;34m\u001b[0m\u001b[0m\n\u001b[1;32m     37\u001b[0m         \u001b[0;31m#If the current image has higher confidence OR it has priority\u001b[0m\u001b[0;34m\u001b[0m\u001b[0;34m\u001b[0m\u001b[0m\n\u001b[0;32m---> 38\u001b[0;31m         \u001b[0;32mif\u001b[0m  \u001b[0mc\u001b[0m \u001b[0;34m>\u001b[0m\u001b[0mlevelConf\u001b[0m\u001b[0;34m[\u001b[0m\u001b[0;34m(\u001b[0m\u001b[0mxx\u001b[0m\u001b[0;34m,\u001b[0m\u001b[0myy\u001b[0m\u001b[0;34m)\u001b[0m\u001b[0;34m]\u001b[0m \u001b[0;32mand\u001b[0m \u001b[0mpriority\u001b[0m\u001b[0;34m[\u001b[0m\u001b[0msprite2ur\u001b[0m\u001b[0;34m[\u001b[0m\u001b[0msprite\u001b[0m\u001b[0;34m]\u001b[0m\u001b[0;34m]\u001b[0m \u001b[0;34m>=\u001b[0m \u001b[0mlevelPriority\u001b[0m\u001b[0;34m[\u001b[0m\u001b[0;34m(\u001b[0m\u001b[0mxx\u001b[0m\u001b[0;34m,\u001b[0m\u001b[0myy\u001b[0m\u001b[0;34m)\u001b[0m\u001b[0;34m]\u001b[0m\u001b[0;34m:\u001b[0m\u001b[0;34m\u001b[0m\u001b[0m\n\u001b[0m\u001b[1;32m     39\u001b[0m             \u001b[0mlevelPriority\u001b[0m\u001b[0;34m[\u001b[0m\u001b[0;34m(\u001b[0m\u001b[0mxx\u001b[0m\u001b[0;34m,\u001b[0m\u001b[0myy\u001b[0m\u001b[0;34m)\u001b[0m\u001b[0;34m]\u001b[0m \u001b[0;34m=\u001b[0m \u001b[0mpriority\u001b[0m\u001b[0;34m[\u001b[0m\u001b[0msprite2ur\u001b[0m\u001b[0;34m[\u001b[0m\u001b[0msprite\u001b[0m\u001b[0;34m]\u001b[0m\u001b[0;34m]\u001b[0m\u001b[0;34m\u001b[0m\u001b[0m\n\u001b[1;32m     40\u001b[0m             \u001b[0mlevelConf\u001b[0m\u001b[0;34m[\u001b[0m\u001b[0;34m(\u001b[0m\u001b[0mxx\u001b[0m\u001b[0;34m,\u001b[0m\u001b[0myy\u001b[0m\u001b[0;34m)\u001b[0m\u001b[0;34m]\u001b[0m \u001b[0;34m=\u001b[0m \u001b[0mc\u001b[0m\u001b[0;34m\u001b[0m\u001b[0m\n",
      "\u001b[0;31mKeyError\u001b[0m: 'bush_t'"
     ]
    }
   ],
   "source": [
    "\n",
    "levelMap = {}\n",
    "\n",
    "maxX = -1\n",
    "maxY = -1\n",
    "\n",
    "levelConf = {}\n",
    "levelPriority = {}\n",
    "priority = {sprite2ur[sprite]:0 for sprite in sprite2ur}\n",
    "for sprite in ['question_mushroom','question_star','coinblock','question_1up']:\n",
    "    priority[sprite] = 1\n",
    "sprites = set(['red_koopa','flying_koopa','Koopa','Goomba','hammerbro','flying_red_koopa',\n",
    "               'Pirannha','Girder','buzzy_beetle','spiny','mushroom_bridge'])\n",
    "\n",
    "\n",
    "\n",
    "#For all sprites\n",
    "for sprite in sprite2ur:\n",
    "    #Find sprite locations and their associated confidences using OpenCV's template matching\n",
    "    #as a default, only allow those with a confidence >= 0.65 to be considered\n",
    "    locs,conf = findSubImageLocations(level,cv2.imread(join(tile_path, sprite)),0.55)\n",
    "\n",
    "    for yy,xx,c in zip(locs[0],locs[1],conf):\n",
    "        mx = xx/16.\n",
    "        my = yy/16.\n",
    "\n",
    "        xx = int(np.round(xx/16.))\n",
    "        yy = int(np.round(yy/16.))\n",
    "        #If something is more than 20% off center, only allow it if it is a sprite\n",
    "        if (abs(xx-mx) > 0.2 or abs(yy-my) > 0.2) and sprite2ur[sprite] not in sprites:\n",
    "            continue\n",
    "        #Default to a confidence of -1\n",
    "        if (xx,yy) not in levelConf:\n",
    "            \n",
    "            levelConf[(xx,yy)] = -1\n",
    "            levelPriority[(xx,yy)] = -1\n",
    "        #If the current image has higher confidence OR it has priority\n",
    "        if  c >levelConf[(xx,yy)] and priority[sprite2ur[sprite]] >= levelPriority[(xx,yy)]:\n",
    "            levelPriority[(xx,yy)] = priority[sprite2ur[sprite]]\n",
    "            levelConf[(xx,yy)] = c\n",
    "            levelMap[(xx,yy)] = sprite2ur[sprite]\n",
    "        #Keep track of level sizes\n",
    "        maxX = max(maxX,xx)\n",
    "        maxY = max(maxY,yy)"
   ]
  },
  {
   "cell_type": "code",
   "execution_count": 17,
   "metadata": {
    "collapsed": false
   },
   "outputs": [
    {
     "name": "stdout",
     "output_type": "stream",
     "text": [
      "----------------------------------------------------------------------------------------------------\n",
      "-------------------456--------------4556---------------------------456--------------4556------------\n",
      "--------456--------123-----45556----1223----------------456--------123-----45556----1223------------\n",
      "--------123----------------12223------------------------123----------------12223--g-----------------\n",
      "----------------------?---------------------------------------------------------HHHHHHHH---HHH?-----\n",
      "-------------------------------------------------------------------------------e--------------------\n",
      "-------------------------------------------------------------------------------g--------------o-----\n",
      "----------------------------------------------nn---------nn-----Q-----------------------------------\n",
      "----------------?---HQH?H-------------nn------<>---------<>------------------HQH--------------H-----\n",
      "--n-------------------------nn--------<>------[]--n------[]---------------------------------------n-\n",
      "-/ \\-------------n----------<>--------[]------[]-/ \\-----[]------n-------------------------------/ \\\n",
      "/ --\\------auuue/ \\--g-aue--[]--------[]gauue-[]/ - \\gg--[]auuue/ \\----aue---------------auue--gg-- \n",
      "XXXXXXXXXXXXXXXXXXXXXXXXXXXXXXXXXXXXXXXXXXXXXXXXXXXXXXXXXXXXXXXXXXXXX--XXXXXXXXXXXXXXX---XXXXXXXXXXX\n"
     ]
    },
    {
     "data": {
      "image/png": "[encoded data removed]",
      "text/plain": [
       "<matplotlib.figure.Figure at 0x7f856b188e10>"
      ]
     },
     "metadata": {},
     "output_type": "display_data"
    }
   ],
   "source": [
    "\n",
    "levelStr = [['-' for xx in range(maxX+1)] for yy in range(maxY+1)] \n",
    "for loc,tile in levelMap.items():\n",
    "    levelStr[loc[1]][loc[0]] = tile\n",
    "for line in levelStr:\n",
    "    print ''.join([legend[l] for l in line][:100])\n",
    "    \n",
    "    \n",
    "plt.figure(figsize=(20,20))\n",
    "plt.imshow(level[:,:100*16,:])\n",
    "plt.show()\n",
    "\n"
   ]
  },
  {
   "cell_type": "code",
   "execution_count": null,
   "metadata": {
    "collapsed": true
   },
   "outputs": [],
   "source": []
  }
 ],
 "metadata": {
  "kernelspec": {
   "display_name": "Python 2",
   "language": "python",
   "name": "python2"
  },
  "language_info": {
   "codemirror_mode": {
    "name": "ipython",
    "version": 2
   },
   "file_extension": ".py",
   "mimetype": "text/x-python",
   "name": "python",
   "nbconvert_exporter": "python",
   "pygments_lexer": "ipython2",
   "version": "2.7.10"
  }
 },
 "nbformat": 4,
 "nbformat_minor": 1
}
