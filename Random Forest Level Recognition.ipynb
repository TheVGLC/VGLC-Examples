{
 "cells": [
  {
   "cell_type": "markdown",
   "metadata": {},
   "source": [
    "Attempts to predict the level of Kid Icarus that a tile is from, using the counts of symbols in \n",
    "the tile. Adding trees doesn't seem to affect accuracy too much, but it decreases the variance \n",
    "greatly (e.g. when running the program multiple times). Increasing the tile height seems to improve \n",
    "accuracy, but with diminishing returns later on. This might be due to the amount of row structures \n",
    "that are reused between levels (such as empty rows, 3 Ts, 4 Ts, and all Ms).\n",
    "\n",
    "The large difference in accuracy produced by varying tile sizes (~0.28 for single rows versus ~0.81 \n",
    "for 16x16 tiles) shows that single columns may not be good enough to capture \"player intent\" in \n",
    "regards to the coop level editor.\n"
   ]
  },
  {
   "cell_type": "code",
   "execution_count": 1,
   "metadata": {
    "collapsed": true
   },
   "outputs": [],
   "source": [
    "import os, sys\n",
    "from time import time\n",
    "import numpy as np\n",
    "\n",
    "from sklearn import metrics\n",
    "from sklearn.ensemble import RandomForestClassifier\n",
    "from sklearn.model_selection import train_test_split"
   ]
  },
  {
   "cell_type": "code",
   "execution_count": 2,
   "metadata": {
    "collapsed": true
   },
   "outputs": [],
   "source": [
    "\n",
    "# Options\n",
    "base_path = './VGLC/Kid Icarus/Processed'\n",
    "tile_width = 16\n",
    "tile_height = 1\n",
    "test_size = 0.2\n",
    "num_trees = 100\n",
    "verbose = False"
   ]
  },
  {
   "cell_type": "code",
   "execution_count": 3,
   "metadata": {
    "collapsed": true
   },
   "outputs": [],
   "source": [
    "\n",
    "def get_tiles(level, tile_width, tile_height):\n",
    "      level_height = len(level)\n",
    "      level_width = len(level[0])\n",
    "      if tile_height > level_height or tile_width > level_width:\n",
    "            print('Error: Tile size larger than level size.')\n",
    "            sys.exit(0)\n",
    "\n",
    "      level_tiles = []\n",
    "      for i in range(level_height - tile_height + 1):\n",
    "            for j in range(level_width - tile_width + 1):\n",
    "                  level_tiles.append([[symbol for symbol in line[j:j + tile_width]] \n",
    "                                              for line in level[i:i + tile_height]])\n",
    "      return level_tiles\n",
    "\n",
    "symbol_to_int = {'-' : 0, '#' : 1, 'D' : 2, 'H' : 3, 'M' : 4, 'T' : 5}\n",
    "def get_features(tile):\n",
    "      counts = [0] * len(symbol_to_int)\n",
    "      for i in range(len(tile)):\n",
    "            for j in range(len(tile[-1])):\n",
    "                  counts[symbol_to_int[tile[i][j]]] += 1\n",
    "      return counts"
   ]
  },
  {
   "cell_type": "code",
   "execution_count": 5,
   "metadata": {
    "collapsed": true
   },
   "outputs": [],
   "source": [
    "levels = []     # (level, line, symbol)\n",
    "tiles = []      # (tile, line, symbol)\n",
    "features = []   # (tile, features)\n",
    "labels = []     # (tile)\n",
    "\n",
    "# Parsing levels from files\n",
    "for file_name in os.listdir(base_path):\n",
    "      with open(base_path + \"/\" + file_name, 'r') as file_text:\n",
    "            levels.append([[symbol for symbol in line][:-1] for line in file_text.readlines()])\n",
    "if verbose:\n",
    "      print('\\nNumber of levels: ' + str(len(levels)))\n",
    "      print('First level representation:\\n' + ''.join([symbol for line in levels[0] for symbol in (line + ['\\n'])]))\n",
    "\n",
    "# Parsing tiles from levels\n",
    "for i in range(len(levels)):\n",
    "      level_tiles = get_tiles(levels[i], tile_width, tile_height)\n",
    "      tiles += level_tiles\n",
    "      labels += [i for _ in range(len(level_tiles))]\n",
    "if verbose:\n",
    "      print('Number of tiles in first level: ' + str(sum([label == 0 for label in labels])))\n",
    "      print('Tile representation:\\n' + ''.join([symbol for line in tiles[int(len(tiles) / 2)] for symbol in (line + ['\\n'])]))\n",
    "\n",
    "# Converting symbols to numbers\n",
    "for tile in tiles:\n",
    "      features.append(get_features(tile))"
   ]
  },
  {
   "cell_type": "code",
   "execution_count": 6,
   "metadata": {
    "collapsed": false
   },
   "outputs": [
    {
     "name": "stdout",
     "output_type": "stream",
     "text": [
      "()\n",
      "Classification report for random forest classifier:\n",
      "\n",
      "             precision    recall  f1-score   support\n",
      "\n",
      "          0       0.33      0.09      0.14        35\n",
      "          1       0.47      0.41      0.44        61\n",
      "          2       0.15      0.09      0.12        32\n",
      "          3       0.21      0.49      0.30        45\n",
      "          4       0.24      0.19      0.22        36\n",
      "          5       0.36      0.31      0.33        42\n",
      "\n",
      "avg / total       0.31      0.29      0.28       251\n",
      "\n"
     ]
    }
   ],
   "source": [
    "\n",
    "# Splitting into training and test sets\n",
    "X_train, X_test, y_train, y_test = train_test_split(features, labels, test_size=test_size, random_state=1267)\n",
    "\n",
    "# Training model\n",
    "classifier = RandomForestClassifier(n_estimators=num_trees)\n",
    "classifier.fit(X_train, y_train)\n",
    "\n",
    "# Testing model\n",
    "if not verbose:\n",
    "      print()\n",
    "print(\"Classification report for random forest classifier:\\n\\n%s\"\n",
    "      % metrics.classification_report(y_test, classifier.predict(X_test)))"
   ]
  },
  {
   "cell_type": "code",
   "execution_count": null,
   "metadata": {
    "collapsed": true
   },
   "outputs": [],
   "source": []
  }
 ],
 "metadata": {
  "kernelspec": {
   "display_name": "Python 2",
   "language": "python",
   "name": "python2"
  },
  "language_info": {
   "codemirror_mode": {
    "name": "ipython",
    "version": 2
   },
   "file_extension": ".py",
   "mimetype": "text/x-python",
   "name": "python",
   "nbconvert_exporter": "python",
   "pygments_lexer": "ipython2",
   "version": "2.7.10"
  }
 },
 "nbformat": 4,
 "nbformat_minor": 1
}
