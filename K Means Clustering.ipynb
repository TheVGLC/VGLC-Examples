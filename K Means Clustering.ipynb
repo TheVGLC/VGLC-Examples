{
 "cells": [
  {
   "cell_type": "markdown",
   "metadata": {},
   "source": [
    "Clusters tiles from levels based on structure. Should work on any of the sets of levels. \n",
    "Doesn't seem to be very accurate in distinguishing between levels - only slightly better \n",
    "than outright guessing. This is likely due to the nature of the features used. The tiles \n",
    "within a given level don't share much in structure, and most of the levels (especially \n",
    "above ground ones) will have entirely empty tiles, which makes it difficult to distinguish \n",
    "between them based on structure alone.\n",
    "\n",
    "In games where tile structure is more homogenous within a given level, \"tile structure\" could \n",
    "be used as a meaningful metric when designing or expanding on levels. In this case, it could \n",
    "also be used as a feature when attempting to classify levels (greater homogeneity = greater \n",
    "information gain).\n",
    "\n",
    "Benchmark formatting was taken from here: \n",
    "http://scikit-learn.org/stable/auto_examples/cluster/plot_kmeans_digits.html#sphx-glr-auto-examples-cluster-plot-kmeans-digits-py"
   ]
  },
  {
   "cell_type": "code",
   "execution_count": 1,
   "metadata": {
    "collapsed": true
   },
   "outputs": [],
   "source": [
    "import os, sys\n",
    "from time import time\n",
    "import numpy as np\n",
    "import matplotlib.pyplot as plt\n",
    "\n",
    "from sklearn import metrics\n",
    "from sklearn.cluster import KMeans\n",
    "from sklearn.decomposition import PCA"
   ]
  },
  {
   "cell_type": "code",
   "execution_count": 2,
   "metadata": {
    "collapsed": true
   },
   "outputs": [],
   "source": [
    "# Options\n",
    "base_path = './VGLC/Super Mario Bros/Processed'\n",
    "tile_width = 10\n",
    "tile_height = 10\n",
    "verbose = False"
   ]
  },
  {
   "cell_type": "code",
   "execution_count": 3,
   "metadata": {
    "collapsed": true
   },
   "outputs": [],
   "source": [
    "\n",
    "def get_tiles(level, tile_width, tile_height):\n",
    "      level_height = len(level)\n",
    "      level_width = len(level[0])\n",
    "      if tile_height > level_height or tile_width > level_width:\n",
    "            print('Error: Tile size larger than level size.')\n",
    "            sys.exit(0)\n",
    "\n",
    "      level_tiles = []\n",
    "      for i in range(level_height - tile_height + 1):\n",
    "            for j in range(level_width - tile_width + 1):\n",
    "                  level_tiles.append([[symbol for symbol in line[j:j + tile_width]] \n",
    "                                              for line in level[i:i + tile_height]])\n",
    "      return level_tiles\n",
    "\n",
    "def get_features(symbol):\n",
    "      return int(symbol != '-')\n",
    "\n",
    "def bench_k_means(estimator, name, data):\n",
    "      t0 = time()\n",
    "      estimator.fit(data)\n",
    "      print('%9s  %4.2fs  %7i  %5.3f  %5.3f  %6.3f  %5.3f  %5.3f  %10.3f' \n",
    "            % (name, (time() - t0), estimator.inertia_,\n",
    "            metrics.homogeneity_score(labels, estimator.labels_),\n",
    "            metrics.completeness_score(labels, estimator.labels_),\n",
    "            metrics.v_measure_score(labels, estimator.labels_),\n",
    "            metrics.adjusted_rand_score(labels, estimator.labels_),\n",
    "            metrics.adjusted_mutual_info_score(labels,  estimator.labels_),\n",
    "            metrics.silhouette_score(data, estimator.labels_, metric='euclidean')))\n",
    "      return estimator"
   ]
  },
  {
   "cell_type": "code",
   "execution_count": 4,
   "metadata": {
    "collapsed": true
   },
   "outputs": [],
   "source": [
    "levels = []     # (level, line, symbol)\n",
    "tiles = []      # (tile, line, symbol)\n",
    "tiles_flat = [] # (tile, symbol)\n",
    "labels = []     # (tile)\n",
    "\n",
    "# Parsing levels from files\n",
    "for file_name in os.listdir(base_path):\n",
    "      with open(base_path + \"/\" + file_name, 'r') as file_text:\n",
    "            levels.append([[symbol for symbol in line][:-1] for line in file_text.readlines()])\n",
    "if verbose:\n",
    "      print('\\nNumber of levels: ' + str(len(levels)))\n",
    "      print('First level representation:\\n' + ''.join([symbol for line in levels[0] for symbol in (line + ['\\n'])]))\n",
    "\n",
    "# Parsing tiles from levels\n",
    "for i in range(len(levels)):\n",
    "      level_tiles = get_tiles(levels[i], tile_width, tile_height)\n",
    "      tiles += level_tiles\n",
    "      labels += [i for _ in range(len(level_tiles))]\n",
    "if verbose:\n",
    "      print('Number of tiles in first level: ' + str(sum([label == 0 for label in labels])))\n",
    "      print('Tile representation:\\n' + ''.join([symbol for line in tiles[int(len(tiles) / 2)] for symbol in (line + ['\\n'])]))\n",
    "\n",
    "# Converting symbols to numbers\n",
    "for tile in tiles:\n",
    "      features = [get_features(symbol) for line in tile for symbol in line]\n",
    "      tiles_flat.append(features)"
   ]
  },
  {
   "cell_type": "code",
   "execution_count": 5,
   "metadata": {
    "collapsed": false
   },
   "outputs": [
    {
     "name": "stdout",
     "output_type": "stream",
     "text": [
      "()\n",
      "Number of clusters: 15, number of samples: 13940, number of features: 100\n",
      "---------------------------------------------------------------------------\n",
      "     init   time  inertia   homo  compl  v-meas    ARI    AMI  silhouette\n",
      "k-means++  3.17s    82612  0.092  0.114   0.102  0.032  0.090       0.116\n",
      "   random  2.10s    82277  0.100  0.121   0.110  0.040  0.098       0.120\n",
      "PCA-based  0.35s    84080  0.114  0.132   0.122  0.051  0.111       0.116\n",
      "---------------------------------------------------------------------------\n"
     ]
    }
   ],
   "source": [
    "# Table formatting and k-means calculations\n",
    "num_clusters = len(levels)\n",
    "\n",
    "if not verbose:\n",
    "      print()\n",
    "print(\"Number of clusters: %d, number of samples: %d, number of features: %d\"\n",
    "      % (num_clusters, len(tiles_flat), len(tiles_flat[0])))\n",
    "print(75 * '-')\n",
    "print('%9s  %5s  %7s  %5s  %5s  %6s  %5s  %5s  %10s' \n",
    "      % ('init', 'time', 'inertia', 'homo', 'compl', 'v-meas', 'ARI', 'AMI', 'silhouette'))\n",
    "\n",
    "bench_k_means(KMeans(init='k-means++', n_clusters=num_clusters, n_init=10), name=\"k-means++\", data=tiles_flat)\n",
    "bench_k_means(KMeans(init='random', n_clusters=num_clusters, n_init=10), name=\"random\", data=tiles_flat)\n",
    "# - In this case the seeding of the centers is deterministic, hence we run the kmeans algorithm only once\n",
    "pca = PCA(n_components=num_clusters).fit(tiles_flat)\n",
    "estimator = bench_k_means(KMeans(init=pca.components_, n_clusters=num_clusters, n_init=1), name=\"PCA-based\", data=tiles_flat)\n",
    "\n",
    "print(75 * '-')"
   ]
  },
  {
   "cell_type": "code",
   "execution_count": 6,
   "metadata": {
    "collapsed": true
   },
   "outputs": [],
   "source": [
    "# Write results to files\n",
    "centroids = estimator.cluster_centers_.reshape((num_clusters, tile_height, tile_width)).tolist()\n",
    "for centroid_index, centroid in enumerate(centroids):\n",
    "      text = '\\n'.join([' '.join(['X' if num >= 0.5 else '-' for num in line]) for line in centroid])\n",
    "      for tile_index, tile in enumerate(tiles):\n",
    "            if estimator.labels_[tile_index] == centroid_index:\n",
    "                  text += '\\n\\n' + '\\n'.join([' '.join(['X' if get_features(symbol) >= 0.5 else '-' for symbol in line]) for line in tile])\n",
    "      results = open('./k_means_' + str(centroid_index) + '.txt', 'w+')\n",
    "      results.write(text)"
   ]
  },
  {
   "cell_type": "code",
   "execution_count": null,
   "metadata": {
    "collapsed": true
   },
   "outputs": [],
   "source": []
  }
 ],
 "metadata": {
  "kernelspec": {
   "display_name": "Python 2",
   "language": "python",
   "name": "python2"
  },
  "language_info": {
   "codemirror_mode": {
    "name": "ipython",
    "version": 2
   },
   "file_extension": ".py",
   "mimetype": "text/x-python",
   "name": "python",
   "nbconvert_exporter": "python",
   "pygments_lexer": "ipython2",
   "version": "2.7.10"
  }
 },
 "nbformat": 4,
 "nbformat_minor": 1
}
