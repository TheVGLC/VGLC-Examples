{
 "cells": [
  {
   "cell_type": "markdown",
   "metadata": {},
   "source": [
    "### Import the packages needed (only random for our model)\n",
    "### Specify where the training levels are\n",
    "### Specify the name pattern for the training levels in that folder\n",
    "### Specify the number of training levels to be used\n",
    "### Specify the special tile used as the level boundary"
   ]
  },
  {
   "cell_type": "code",
   "execution_count": 1,
   "metadata": {
    "collapsed": true
   },
   "outputs": [],
   "source": [
    "from __future__ import print_function\n",
    "import random\n",
    "inputFolder = 'trainingData/'\n",
    "levelNameBase = 'mario_'\n",
    "numberOfTrainingLevels = 10\n",
    "BOUNDARY_TILE = ':'"
   ]
  },
  {
   "cell_type": "markdown",
   "metadata": {},
   "source": [
    "### Read in the training levels into 2-d lists, and store them"
   ]
  },
  {
   "cell_type": "code",
   "execution_count": 2,
   "metadata": {
    "collapsed": false
   },
   "outputs": [],
   "source": [
    "trainingLevels = list()\n",
    "for levelIndex in range(1, numberOfTrainingLevels+1):\n",
    "    try:\n",
    "        with open(inputFolder + levelNameBase\n",
    "                + str(levelIndex) + '.txt') as trainingLevel:\n",
    "\n",
    "            level = trainingLevel.readlines()\n",
    "            level = [ row.strip('\\n') for row in level]\n",
    "\n",
    "            trainingLevels.append(level)\n",
    "    except IOError as err:\n",
    "        print(err)"
   ]
  },
  {
   "cell_type": "markdown",
   "metadata": {},
   "source": [
    "### Determine the set of tile types from the training levels"
   ]
  },
  {
   "cell_type": "code",
   "execution_count": 3,
   "metadata": {
    "collapsed": false
   },
   "outputs": [
    {
     "name": "stdout",
     "output_type": "stream",
     "text": [
      "Number of tile types: 14\n"
     ]
    }
   ],
   "source": [
    "tileTypes = [BOUNDARY_TILE]\n",
    "for level in trainingLevels:\n",
    "    for row in level:\n",
    "        for tile in row:\n",
    "            if tile not in tileTypes:\n",
    "                tileTypes.append(tile)\n",
    "\n",
    "numberOfTileTypes = len(tileTypes)\n",
    "print('Number of tile types:', numberOfTileTypes)"
   ]
  },
  {
   "cell_type": "markdown",
   "metadata": {},
   "source": [
    "At this point, we've read in the training levels and determined the set of tile types that make up the domain. We cna now begin defining our model."
   ]
  },
  {
   "cell_type": "markdown",
   "metadata": {},
   "source": [
    "### First, we need to define the network structure of the MdMC"
   ]
  },
  {
   "cell_type": "markdown",
   "metadata": {},
   "source": [
    "The network structure defines which surrounding tiles the value of the current position depends on. We define our network structures using a 2-d list. \n",
    "\n",
    "For example, a network structure of: \n",
    "    [[0,1,2],\n",
    "     [0,0,1]] \n",
    "    \n",
    "    states that the current position (2), relies on the tile to the left and the tile below (1's), and the 0's are used to ensure each sublist is of the same length.\n",
    "    \n",
    "Note, the more complex the network structure, the more data is needed to estimate the model. \n",
    "\n",
    "Furthermore, the \"network complexity\" is the number of states that the current state depends on (i.e., the number of 1's in the network structure).\n",
    "\n",
    "We also record the position of the dependent state in the network structure to make training more concise later."
   ]
  },
  {
   "cell_type": "code",
   "execution_count": 4,
   "metadata": {
    "collapsed": false
   },
   "outputs": [
    {
     "name": "stdout",
     "output_type": "stream",
     "text": [
      "Network Structure:  [[0, 1, 2], [0, 1, 1]]\n",
      "Network Complexity:  3\n",
      "Position of dependent state:  0 2\n"
     ]
    }
   ],
   "source": [
    "DEPENDENT_STATE = 2\n",
    "INDEPENDENT_STATE = 1\n",
    "\n",
    "networkStructure = [[0,1,2],\n",
    "                    [0,1,1]]\n",
    "\n",
    "networkComplexity = 0\n",
    "\n",
    "for y in range(len(networkStructure)):\n",
    "    for x in range(len(networkStructure[y])):\n",
    "        if networkStructure[y][x] == 1:\n",
    "            networkComplexity += 1\n",
    "        if networkStructure[y][x] == 2:\n",
    "            dependentPosition_X = x\n",
    "            dependentPosition_Y = y\n",
    "print('Network Structure: ', networkStructure)\n",
    "print('Network Complexity: ', networkComplexity)\n",
    "print('Position of dependent state: ', dependentPosition_Y, dependentPosition_X)"
   ]
  },
  {
   "cell_type": "markdown",
   "metadata": {},
   "source": [
    "### We can now begin training our model"
   ]
  },
  {
   "cell_type": "markdown",
   "metadata": {},
   "source": [
    "We first define the needed size of the conditional probability distribution (CPD), which is dependent on the network complexity and number of tile types. The dimensions of the CPD are:\n",
    "\n",
    "    (numberOfTileTypes^networkComplexity) X (numberOfTileTypes +1)\n",
    "    \n",
    "The first dimension is the number of possible surrounding tile configurations, and the second dimension is the number of tile types plus an additional space to track the total number of times each configuration occurs.\n",
    "\n",
    "We then train our model by iterating through all the training levels and counting how many times each tile type follows each configuration  and how many times each configuration occurs.\n",
    "\n",
    "Finally, we estimate the probabilities by dividing the number of times each tile follows each configuration by the number of times that configuration occurred.\n",
    "\n",
    "Note, we define two helper functions to determine the surrounding tile configuration and its index into the CPD."
   ]
  },
  {
   "cell_type": "code",
   "execution_count": 5,
   "metadata": {
    "collapsed": false
   },
   "outputs": [
    {
     "name": "stdout",
     "output_type": "stream",
     "text": [
      "2744 15\n"
     ]
    }
   ],
   "source": [
    "def GetSurroundingTiles(networkStructure, level, xPos, yPos, dependentPosition_X, \n",
    "                        dependentPosition_Y):\n",
    "    surroundingTiles = list()\n",
    "    for y in range(len(networkStructure)):\n",
    "        for x in range(len(networkStructure[0])):\n",
    "            if networkStructure[y][x] == INDEPENDENT_STATE:\n",
    "                if ((yPos + (y - dependentPosition_Y)) < len(level) \n",
    "                    and (xPos - (dependentPosition_X - x)) >= 0):\n",
    "                \n",
    "                    surroundingTiles.append(level[yPos + (y - dependentPosition_Y)]\n",
    "                                        [xPos - (dependentPosition_X - x)])\n",
    "                else:\n",
    "                    surroundingTiles.append(BOUNDARY_TILE)\n",
    "\n",
    "    return surroundingTiles\n",
    "\n",
    "def ConvertConfigurationToIndex(surroundingTiles, tileTypes):\n",
    "\n",
    "    exponent = 0\n",
    "    configurationIndex = 0\n",
    "    for t in surroundingTiles:\n",
    "        configurationIndex += tileTypes.index(t)*pow(len(tileTypes), exponent)\n",
    "        exponent += 1\n",
    "\n",
    "    return configurationIndex\n",
    "\n",
    "tableHeight = pow(numberOfTileTypes,networkComplexity)\n",
    "\n",
    "# The width of the table is the number of tile types + 1 to account for\n",
    "# each tile type and the totals needed to estimate the probability.\n",
    "tableWidth = numberOfTileTypes+1\n",
    "\n",
    "CPD = [[0.0 for x in range(tableWidth)] for y in range(tableHeight)]\n",
    "\n",
    "# We now iterate through each training level and record how many times \n",
    "# each tile follows each tile configuration, and the total number of times\n",
    "# each configuration appears.\n",
    "for level in trainingLevels:\n",
    "    # We start at the bottom of the level and move upward.\n",
    "    for y in range(len(level)-1, -1, -1):\n",
    "        for x in range(len(level[y])):\n",
    "            surroundingTiles = GetSurroundingTiles(networkStructure, level, x, y, \n",
    "                                                   dependentPosition_X, dependentPosition_Y)\n",
    "\n",
    "            configurationIndex = ConvertConfigurationToIndex(surroundingTiles, tileTypes)\n",
    "\n",
    "            CPD[configurationIndex][tileTypes.index(level[y][x])] += 1\n",
    "            CPD[configurationIndex][len(tileTypes)] += 1\n",
    "\n",
    "\n",
    "# Once the totals have been recorded, we estimate the probabilities\n",
    "# Notice, if a configuration has not been observed, we set a uniform\n",
    "# probability for all tile types to follow for that configuration, except\n",
    "# the special border tile which should never be sampled.\n",
    "for row in range(len(CPD)):\n",
    "    for position in range(len(CPD[row])-1):\n",
    "        if CPD[row][len(tileTypes)] > 0:\n",
    "            CPD[row][position] = CPD[row][position]/CPD[row][len(tileTypes)]\n",
    "        elif position > 0:\n",
    "            CPD[row][position] = 1.0/(len(tileTypes)-1)\n",
    "            \n",
    "print(len(CPD), len(CPD[0]))"
   ]
  },
  {
   "cell_type": "markdown",
   "metadata": {},
   "source": [
    "### After training, all thats left to do is sample new levels\n",
    "\n",
    "To sample a new level we need to define the dimensions of the output level, as well as the length of the look ahead.\n",
    "\n",
    "Then we sample a new level, tile by tile starting in the bottom left and completing row by row.\n",
    "\n",
    "We choose a tile probabilistically by determining the surrounding tile configuration and sampling from the trained distribution. We then perform a recursive look ahead in order to check future positions for unseen tile congifurations. If such configurations are encountered, we resample the tile.\n",
    "\n",
    "We define a function for recursively sampling the correct number of tiles ahead, and a function for sampling a full level.\n",
    "\n",
    "Additionally, in order to sample a new level, we need to define the length of the look ahead to be used."
   ]
  },
  {
   "cell_type": "code",
   "execution_count": 6,
   "metadata": {
    "collapsed": false
   },
   "outputs": [
    {
     "name": "stdout",
     "output_type": "stream",
     "text": [
      "------------------------------------------------------SS-----------------------------E------------------------\n",
      "-X--------------------------------------------------------------------XX-------------XXXXX--------------------\n",
      "--------------------------------------------------------------------------------------------------------------\n",
      "--------------------------------------------------------------------------o-----------------------------------\n",
      "---------------------------------------------------------------------?SS--------------------------------------\n",
      "--------------------------------------------------------------------------------------------------------------\n",
      "-----------------------------------------?----SSSSSSSSSSS-----------------------------------------------------\n",
      "--------------------E-----SSQ-----------------SSS-------------------------------------------------------------\n",
      "---------------------------------------------------QQQ--------------------------------------------------------\n",
      "-----------------------------------XX-------------------------------------------------------------------------\n",
      "--E--------------------------------XX----------------------------------------------ooooo----------X-----------\n",
      "-<>--E------------------------------------------------------------------------EE---XXXXXX-E-------------------\n",
      "-[]------------E-----E-EEooo--XXXX-X------E--E---EE--E--------------------XXXXXXXXXXXXXXXXXXXXXXXXXX---------E\n",
      "XXXXXXXXXXXXXXXXXXXXXXXXXXXXXXXXXXXXXXXXXXXXXXXXXXXXXXXXXXXXXXXXXXXXXXXXXXXXXXXXXXXXXXXXXXXXXXXXXXXXXXXXXXXXXX\n"
     ]
    }
   ],
   "source": [
    "height = 14\n",
    "length = 110\n",
    "lookAhead =3\n",
    "def SampleTile(CPD, networkStructure, dependentPosition_X, dependentPosition_Y, level, \n",
    "               xPosInLevel, yPosInLevel, possibleTileTypes, allTileTypes, lookAhead, \n",
    "               numberGenerator):\n",
    "\n",
    "    # If we reach the end of the look ahead, or the end of a row\n",
    "    # then the look ahead succeeded.\n",
    "    if lookAhead == -1  or xPosInLevel >= len(level[yPosInLevel]):\n",
    "        return True\n",
    "\n",
    "\n",
    "    surroundingTiles = GetSurroundingTiles(networkStructure, level, xPosInLevel, yPosInLevel, \n",
    "                                           dependentPosition_X, dependentPosition_Y)\n",
    "\n",
    "    configurationIndex = ConvertConfigurationToIndex(surroundingTiles, allTileTypes)\n",
    "\n",
    "    # Make a copy of the list of possible tiles and the probability distribution\n",
    "    # for that configuration, so that they can be modified without modifying\n",
    "    # the original.\n",
    "    remainingTileTypes = list(possibleTileTypes)\n",
    "    distribution = list(CPD[configurationIndex])\n",
    "\n",
    "\n",
    "    # If at any depth into the lookahead, we reach an unseen configuration\n",
    "    # of tile types then we need to backtrack.\n",
    "    if distribution[len(distribution)-1] == 0:\n",
    "        return False\n",
    "\n",
    "\n",
    "    # Otherwise, we sample a tile and continue with the look ahead.\n",
    "    while len(remainingTileTypes) > 1:\n",
    "        # First sample a tile for the current position.\n",
    "        choice = numberGenerator.uniform(0,1)\n",
    "        prob = 0\n",
    "        for index in range(1,len(remainingTileTypes)):\n",
    "            prob += distribution[index]\n",
    "            if choice <= prob:\n",
    "                level[yPosInLevel][xPosInLevel] = remainingTileTypes[index]\n",
    "                break\n",
    "\n",
    "        # If the position was sampled successfully, then the look ahead\n",
    "        # must have succeeded at each subsequent position.\n",
    "        if SampleTile(CPD, networkStructure, dependentPosition_X, dependentPosition_Y, level, \n",
    "                      xPosInLevel+1, yPosInLevel, allTileTypes, allTileTypes, lookAhead-1, \n",
    "                      numberGenerator):\n",
    "            return True\n",
    "\n",
    "        # If the position was not sampled successfully, the we remove the \n",
    "        # chosen tile from the list of possible tiles, normalize the probability \n",
    "        #distribution, and resample the current and subsequent positions.\n",
    "        else:\n",
    "            tileIndex = remainingTileTypes.index(level[yPosInLevel][xPosInLevel])\n",
    "            del remainingTileTypes[tileIndex]\n",
    "            del distribution[tileIndex]\n",
    "            \n",
    "            # Re-estimate the distribution\n",
    "            sum=0\n",
    "            for index in range(0, len(distribution)-1):\n",
    "                sum += distribution[index]\n",
    "\n",
    "            # If none of the remaining tile types have been observed following\n",
    "            # this configuration, then this is essentially an unseen \n",
    "            # configuration, so we backtrack.\n",
    "            if sum == 0:\n",
    "                return False\n",
    "            for index in range(0, len(distribution)-1):\n",
    "                distribution[index] = distribution[index]/sum\n",
    "\n",
    "\n",
    "    # If we run out of tiles to choose from, then backtrack.\n",
    "    return False\n",
    "\n",
    "\n",
    "\n",
    "def SampleLevel(length, height, numberGenerator, CPD, networkStructure, dependentPosition_X, \n",
    "                dependentPosition_Y, tileTypes, lookAhead):\n",
    "    \n",
    "    outputLevel = [[' ' for x in range(length)] for y in range(height)]\n",
    "\n",
    "    for y in range(height-1, -1, -1):\n",
    "        for x in range(length):\n",
    "            successfullySampled = SampleTile(CPD, networkStructure, dependentPosition_X, \n",
    "                                             dependentPosition_Y, outputLevel,x, y, tileTypes, \n",
    "                                             tileTypes, lookAhead, numberGenerator)\n",
    "\n",
    "            # If the look ahead fails at the top level, choose a tile at random\n",
    "            if not successfullySampled:\n",
    "                choice = numberGenerator.randint(1,len(tileTypes)-1)\n",
    "                outputLevel[y][x] = tileTypes[choice]\n",
    "\n",
    "    return outputLevel\n",
    "\n",
    "rand = random.SystemRandom()\n",
    "\n",
    "outputLevel = SampleLevel(length, height, rand, CPD, networkStructure, dependentPosition_X, dependentPosition_Y,\n",
    "           tileTypes, lookAhead)\n",
    "\n",
    "for y in range(len(outputLevel)):\n",
    "    for x in range(len(outputLevel[y])):\n",
    "        print(outputLevel[y][x], end='')\n",
    "    print()\n",
    "\n"
   ]
  },
  {
   "cell_type": "markdown",
   "metadata": {},
   "source": [
    "Notice, occasionally sections of seamingly nonsensical tile will appear in the output. This is because the look ahead has failed at a nearby position, and a tile was sampled at random. This random tile then led to many other look ahead failures and therefore more randomly sampled tiles.\n",
    "\n",
    "In our work we typically sample the tile using a simpler model (i.e. trained with a simpler network structure) instead of randomly sampling the tile in order to avoid these situations. We have left that out of this tutorials code for clarity."
   ]
  },
  {
   "cell_type": "code",
   "execution_count": null,
   "metadata": {
    "collapsed": true
   },
   "outputs": [],
   "source": []
  },
  {
   "cell_type": "code",
   "execution_count": null,
   "metadata": {
    "collapsed": true
   },
   "outputs": [],
   "source": []
  },
  {
   "cell_type": "code",
   "execution_count": null,
   "metadata": {
    "collapsed": true
   },
   "outputs": [],
   "source": []
  }
 ],
 "metadata": {
  "kernelspec": {
   "display_name": "Python 2",
   "language": "python",
   "name": "python2"
  },
  "language_info": {
   "codemirror_mode": {
    "name": "ipython",
    "version": 2
   },
   "file_extension": ".py",
   "mimetype": "text/x-python",
   "name": "python",
   "nbconvert_exporter": "python",
   "pygments_lexer": "ipython2",
   "version": "2.7.10"
  }
 },
 "nbformat": 4,
 "nbformat_minor": 2
}
